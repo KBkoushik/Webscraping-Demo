{
 "cells": [
  {
   "cell_type": "markdown",
   "id": "f1441758",
   "metadata": {},
   "source": [
    "# 1) Write a python program to display all the header tags from wikipedia.org."
   ]
  },
  {
   "cell_type": "code",
   "execution_count": 33,
   "id": "ab78f592",
   "metadata": {},
   "outputs": [
    {
     "name": "stdout",
     "output_type": "stream",
     "text": [
      "h1 Main Page\n",
      "h1 Welcome to Wikipedia\n",
      "h2 From today's featured article\n",
      "h2 Did you know ...\n",
      "h2 In the news\n",
      "h2 On this day\n",
      "h2 Today's featured picture\n",
      "h2 Other areas of Wikipedia\n",
      "h2 Wikipedia's sister projects\n",
      "h2 Wikipedia languages\n",
      "h2 Navigation menu\n",
      "h3 Search\n"
     ]
    }
   ],
   "source": [
    "import  requests\n",
    "from  bs4 import BeautifulSoup\n",
    "\n",
    "url = requests.get('https://en.wikipedia.org/wiki/Main_Page')\n",
    "soup = BeautifulSoup(url.text, 'html.parser')\n",
    "header_tags= soup.find_all(['h1', 'h2','h3','h4','h5'])\n",
    "for i in header_tags:\n",
    "    print(i.name+\" \"+i.text.strip())"
   ]
  },
  {
   "cell_type": "markdown",
   "id": "4eea9076",
   "metadata": {},
   "source": [
    "# 2) Write a python program to display IMDB’s Top rated 100 movies’ data (i.e. name, rating, year of release) and make DataFrame"
   ]
  },
  {
   "cell_type": "code",
   "execution_count": 34,
   "id": "6ccd78f3",
   "metadata": {},
   "outputs": [],
   "source": [
    "from bs4 import BeautifulSoup\n",
    "import requests"
   ]
  },
  {
   "cell_type": "code",
   "execution_count": 35,
   "id": "2b2f8b70",
   "metadata": {},
   "outputs": [
    {
     "data": {
      "text/plain": [
       "<Response [200]>"
      ]
     },
     "execution_count": 35,
     "metadata": {},
     "output_type": "execute_result"
    }
   ],
   "source": [
    "url=\"https://www.imdb.com/chart/top/?ref_=nv_mv_250\"\n",
    "page=requests.get(url)\n",
    "page"
   ]
  },
  {
   "cell_type": "code",
   "execution_count": 36,
   "id": "05a4edcd",
   "metadata": {},
   "outputs": [],
   "source": [
    "soup=BeautifulSoup(page.content)"
   ]
  },
  {
   "cell_type": "code",
   "execution_count": 37,
   "id": "a033c77b",
   "metadata": {},
   "outputs": [],
   "source": [
    "movies_name=[]\n",
    "for i in soup.find_all('td',class_=\"titleColumn\"):\n",
    "    movies_name.append(i.text.replace('\\n',''))\n",
    "n=movies_name[0:100]"
   ]
  },
  {
   "cell_type": "code",
   "execution_count": 38,
   "id": "ee4dabb2",
   "metadata": {},
   "outputs": [],
   "source": [
    "movies_rating=[]\n",
    "for i in soup.find_all('td',class_=\"ratingColumn imdbRating\"):\n",
    "    movies_rating.append(i.text.replace('\\n',''))\n",
    "r=movies_rating[0:100]"
   ]
  },
  {
   "cell_type": "code",
   "execution_count": 39,
   "id": "af980ce5",
   "metadata": {},
   "outputs": [],
   "source": [
    "year_of_release=[]\n",
    "for i in soup.find_all('span',class_=\"secondaryInfo\"):\n",
    "    year_of_release.append(i.text)"
   ]
  },
  {
   "cell_type": "code",
   "execution_count": 40,
   "id": "05e86c6c",
   "metadata": {},
   "outputs": [],
   "source": [
    "y=year_of_release[0:100]"
   ]
  },
  {
   "cell_type": "code",
   "execution_count": 41,
   "id": "2c82cd84",
   "metadata": {},
   "outputs": [],
   "source": [
    "#Making Dataframe\n",
    "import pandas as pd\n",
    "df=pd.DataFrame({'Movies_Name':n,'Rating':r,'Year_Of_Release':y}).set_index('Movies_Name')"
   ]
  },
  {
   "cell_type": "code",
   "execution_count": 163,
   "id": "4cb213da",
   "metadata": {},
   "outputs": [
    {
     "data": {
      "text/html": [
       "<div>\n",
       "<style scoped>\n",
       "    .dataframe tbody tr th:only-of-type {\n",
       "        vertical-align: middle;\n",
       "    }\n",
       "\n",
       "    .dataframe tbody tr th {\n",
       "        vertical-align: top;\n",
       "    }\n",
       "\n",
       "    .dataframe thead th {\n",
       "        text-align: right;\n",
       "    }\n",
       "</style>\n",
       "<table border=\"1\" class=\"dataframe\">\n",
       "  <thead>\n",
       "    <tr style=\"text-align: right;\">\n",
       "      <th></th>\n",
       "      <th>Rating</th>\n",
       "      <th>Year_Of_Release</th>\n",
       "    </tr>\n",
       "    <tr>\n",
       "      <th>Movies_Name</th>\n",
       "      <th></th>\n",
       "      <th></th>\n",
       "    </tr>\n",
       "  </thead>\n",
       "  <tbody>\n",
       "    <tr>\n",
       "      <th>1.      The Shawshank Redemption(1994)</th>\n",
       "      <td>9.2</td>\n",
       "      <td>(1994)</td>\n",
       "    </tr>\n",
       "    <tr>\n",
       "      <th>2.      The Godfather(1972)</th>\n",
       "      <td>9.2</td>\n",
       "      <td>(1972)</td>\n",
       "    </tr>\n",
       "    <tr>\n",
       "      <th>3.      The Dark Knight(2008)</th>\n",
       "      <td>9.0</td>\n",
       "      <td>(2008)</td>\n",
       "    </tr>\n",
       "    <tr>\n",
       "      <th>4.      The Godfather: Part II(1974)</th>\n",
       "      <td>9.0</td>\n",
       "      <td>(1974)</td>\n",
       "    </tr>\n",
       "    <tr>\n",
       "      <th>5.      12 Angry Men(1957)</th>\n",
       "      <td>9.0</td>\n",
       "      <td>(1957)</td>\n",
       "    </tr>\n",
       "    <tr>\n",
       "      <th>...</th>\n",
       "      <td>...</td>\n",
       "      <td>...</td>\n",
       "    </tr>\n",
       "    <tr>\n",
       "      <th>96.      M - Eine Stadt sucht einen Mörder(1931)</th>\n",
       "      <td>8.3</td>\n",
       "      <td>(1931)</td>\n",
       "    </tr>\n",
       "    <tr>\n",
       "      <th>97.      North by Northwest(1959)</th>\n",
       "      <td>8.3</td>\n",
       "      <td>(1959)</td>\n",
       "    </tr>\n",
       "    <tr>\n",
       "      <th>98.      Jagten(2012)</th>\n",
       "      <td>8.3</td>\n",
       "      <td>(2012)</td>\n",
       "    </tr>\n",
       "    <tr>\n",
       "      <th>99.      Vertigo(1958)</th>\n",
       "      <td>8.3</td>\n",
       "      <td>(1958)</td>\n",
       "    </tr>\n",
       "    <tr>\n",
       "      <th>100.      Le fabuleux destin d'Amélie Poulain(2001)</th>\n",
       "      <td>8.3</td>\n",
       "      <td>(2001)</td>\n",
       "    </tr>\n",
       "  </tbody>\n",
       "</table>\n",
       "<p>100 rows × 2 columns</p>\n",
       "</div>"
      ],
      "text/plain": [
       "                                                   Rating Year_Of_Release\n",
       "Movies_Name                                                              \n",
       "      1.      The Shawshank Redemption(1994)          9.2          (1994)\n",
       "      2.      The Godfather(1972)                     9.2          (1972)\n",
       "      3.      The Dark Knight(2008)                   9.0          (2008)\n",
       "      4.      The Godfather: Part II(1974)            9.0          (1974)\n",
       "      5.      12 Angry Men(1957)                      9.0          (1957)\n",
       "...                                                   ...             ...\n",
       "      96.      M - Eine Stadt sucht einen Mörde...    8.3          (1931)\n",
       "      97.      North by Northwest(1959)               8.3          (1959)\n",
       "      98.      Jagten(2012)                           8.3          (2012)\n",
       "      99.      Vertigo(1958)                          8.3          (1958)\n",
       "      100.      Le fabuleux destin d'Amélie Pou...    8.3          (2001)\n",
       "\n",
       "[100 rows x 2 columns]"
      ]
     },
     "execution_count": 163,
     "metadata": {},
     "output_type": "execute_result"
    }
   ],
   "source": [
    "df"
   ]
  },
  {
   "cell_type": "markdown",
   "id": "af8b6443",
   "metadata": {},
   "source": [
    "# 3. Write a python program to display IMDB’s Top rated 100 Indian movies’ data (i.e. name, rating, year of release) and make data frame."
   ]
  },
  {
   "cell_type": "code",
   "execution_count": 42,
   "id": "cccc1108",
   "metadata": {},
   "outputs": [],
   "source": [
    "import  requests\n",
    "from  bs4 import BeautifulSoup"
   ]
  },
  {
   "cell_type": "code",
   "execution_count": 43,
   "id": "47fba02a",
   "metadata": {},
   "outputs": [
    {
     "data": {
      "text/plain": [
       "<Response [200]>"
      ]
     },
     "execution_count": 43,
     "metadata": {},
     "output_type": "execute_result"
    }
   ],
   "source": [
    "url=\"https://www.imdb.com/india/top-rated-indian-movies/\"\n",
    "page=requests.get(url)\n",
    "page"
   ]
  },
  {
   "cell_type": "code",
   "execution_count": 44,
   "id": "da9f3b59",
   "metadata": {},
   "outputs": [],
   "source": [
    "soup=BeautifulSoup(page.content)"
   ]
  },
  {
   "cell_type": "code",
   "execution_count": 45,
   "id": "5aa3d57e",
   "metadata": {},
   "outputs": [],
   "source": [
    "movies_name=[]\n",
    "for i in soup.find_all('td',class_=\"titleColumn\"):\n",
    "    movies_name.append(i.text.replace('\\n',''))\n",
    "n=movies_name[0:100]"
   ]
  },
  {
   "cell_type": "code",
   "execution_count": 46,
   "id": "8886bae2",
   "metadata": {},
   "outputs": [],
   "source": [
    "movies_rating=[]\n",
    "for i in soup.find_all('td',class_=\"ratingColumn imdbRating\"):\n",
    "    movies_rating.append(i.text.replace('\\n',''))\n",
    "r=movies_rating[0:100]"
   ]
  },
  {
   "cell_type": "code",
   "execution_count": 47,
   "id": "2872c822",
   "metadata": {},
   "outputs": [],
   "source": [
    "year_of_release=[]\n",
    "for i in soup.find_all('span',class_=\"secondaryInfo\"):\n",
    "    year_of_release.append(i.text)\n",
    "y=year_of_release[0:100]"
   ]
  },
  {
   "cell_type": "code",
   "execution_count": 48,
   "id": "b91cece3",
   "metadata": {},
   "outputs": [],
   "source": [
    "#Making Dataframe\n",
    "import pandas as pd\n",
    "df=pd.DataFrame({'Movies_Name':n,'Rating':r,'Year_Of_Release':y}).set_index('Movies_Name')"
   ]
  },
  {
   "cell_type": "code",
   "execution_count": 49,
   "id": "5a61a5fe",
   "metadata": {},
   "outputs": [
    {
     "data": {
      "text/html": [
       "<div>\n",
       "<style scoped>\n",
       "    .dataframe tbody tr th:only-of-type {\n",
       "        vertical-align: middle;\n",
       "    }\n",
       "\n",
       "    .dataframe tbody tr th {\n",
       "        vertical-align: top;\n",
       "    }\n",
       "\n",
       "    .dataframe thead th {\n",
       "        text-align: right;\n",
       "    }\n",
       "</style>\n",
       "<table border=\"1\" class=\"dataframe\">\n",
       "  <thead>\n",
       "    <tr style=\"text-align: right;\">\n",
       "      <th></th>\n",
       "      <th>Rating</th>\n",
       "      <th>Year_Of_Release</th>\n",
       "    </tr>\n",
       "    <tr>\n",
       "      <th>Movies_Name</th>\n",
       "      <th></th>\n",
       "      <th></th>\n",
       "    </tr>\n",
       "  </thead>\n",
       "  <tbody>\n",
       "    <tr>\n",
       "      <th>1.      Jai Bhim(2021)</th>\n",
       "      <td>8.4</td>\n",
       "      <td>(2021)</td>\n",
       "    </tr>\n",
       "    <tr>\n",
       "      <th>2.      Anbe Sivam(2003)</th>\n",
       "      <td>8.4</td>\n",
       "      <td>(2003)</td>\n",
       "    </tr>\n",
       "    <tr>\n",
       "      <th>3.      Pariyerum Perumal(2018)</th>\n",
       "      <td>8.4</td>\n",
       "      <td>(2018)</td>\n",
       "    </tr>\n",
       "    <tr>\n",
       "      <th>4.      Golmaal(1979)</th>\n",
       "      <td>8.4</td>\n",
       "      <td>(1979)</td>\n",
       "    </tr>\n",
       "    <tr>\n",
       "      <th>5.      Nayakan(1987)</th>\n",
       "      <td>8.4</td>\n",
       "      <td>(1987)</td>\n",
       "    </tr>\n",
       "    <tr>\n",
       "      <th>...</th>\n",
       "      <td>...</td>\n",
       "      <td>...</td>\n",
       "    </tr>\n",
       "    <tr>\n",
       "      <th>96.      The Legend of Bhagat Singh(2002)</th>\n",
       "      <td>8.0</td>\n",
       "      <td>(2002)</td>\n",
       "    </tr>\n",
       "    <tr>\n",
       "      <th>97.      Sholay(1975)</th>\n",
       "      <td>8.0</td>\n",
       "      <td>(1975)</td>\n",
       "    </tr>\n",
       "    <tr>\n",
       "      <th>98.      Angoor(1982)</th>\n",
       "      <td>8.0</td>\n",
       "      <td>(1982)</td>\n",
       "    </tr>\n",
       "    <tr>\n",
       "      <th>99.      Baahubali 2: The Conclusion(2017)</th>\n",
       "      <td>8.0</td>\n",
       "      <td>(2017)</td>\n",
       "    </tr>\n",
       "    <tr>\n",
       "      <th>100.      Maheshinte Prathikaaram(2016)</th>\n",
       "      <td>8.0</td>\n",
       "      <td>(2016)</td>\n",
       "    </tr>\n",
       "  </tbody>\n",
       "</table>\n",
       "<p>100 rows × 2 columns</p>\n",
       "</div>"
      ],
      "text/plain": [
       "                                                 Rating Year_Of_Release\n",
       "Movies_Name                                                            \n",
       "      1.      Jai Bhim(2021)                        8.4          (2021)\n",
       "      2.      Anbe Sivam(2003)                      8.4          (2003)\n",
       "      3.      Pariyerum Perumal(2018)               8.4          (2018)\n",
       "      4.      Golmaal(1979)                         8.4          (1979)\n",
       "      5.      Nayakan(1987)                         8.4          (1987)\n",
       "...                                                 ...             ...\n",
       "      96.      The Legend of Bhagat Singh(2002)     8.0          (2002)\n",
       "      97.      Sholay(1975)                         8.0          (1975)\n",
       "      98.      Angoor(1982)                         8.0          (1982)\n",
       "      99.      Baahubali 2: The Conclusion(2017)    8.0          (2017)\n",
       "      100.      Maheshinte Prathikaaram(2016)       8.0          (2016)\n",
       "\n",
       "[100 rows x 2 columns]"
      ]
     },
     "execution_count": 49,
     "metadata": {},
     "output_type": "execute_result"
    }
   ],
   "source": [
    "df"
   ]
  },
  {
   "cell_type": "markdown",
   "id": "e7a54937",
   "metadata": {},
   "source": [
    "# 4) Write a python program to scrape product name, price and discounts from https://meesho.com/bags\u0002ladies/pl/p7v"
   ]
  },
  {
   "cell_type": "code",
   "execution_count": 50,
   "id": "cc3fa84b",
   "metadata": {},
   "outputs": [],
   "source": [
    "import requests\n",
    "from bs4 import BeautifulSoup"
   ]
  },
  {
   "cell_type": "code",
   "execution_count": 51,
   "id": "ef230b8c",
   "metadata": {},
   "outputs": [
    {
     "data": {
      "text/plain": [
       "<Response [200]>"
      ]
     },
     "execution_count": 51,
     "metadata": {},
     "output_type": "execute_result"
    }
   ],
   "source": [
    "url='https://meesho.com/bags-ladies/pl/p7vbp'\n",
    "page=requests.get(url)\n",
    "page"
   ]
  },
  {
   "cell_type": "code",
   "execution_count": 52,
   "id": "368e5b60",
   "metadata": {},
   "outputs": [],
   "source": [
    "soup=BeautifulSoup(page.content)"
   ]
  },
  {
   "cell_type": "code",
   "execution_count": 53,
   "id": "1e028a1f",
   "metadata": {},
   "outputs": [],
   "source": [
    "Product_name=[]\n",
    "for i in soup.find_all('p',class_=\"Text__StyledText-sc-oo0kvp-0 cPgaBh NewProductCard__ProductTitle_Desktop-sc-j0e7tu-4 hofZGw NewProductCard__ProductTitle_Desktop-sc-j0e7tu-4 hofZGw\"):\n",
    "    Product_name.append(i.text)"
   ]
  },
  {
   "cell_type": "code",
   "execution_count": 54,
   "id": "5d4c6322",
   "metadata": {},
   "outputs": [
    {
     "data": {
      "text/plain": [
       "['Elite Alluring Women Handbags',\n",
       " 'Gorgeous Fancy Women Handbags',\n",
       " 'Gorgeous Fancy Women Handbags',\n",
       " 'Voguish Stylish Women Handbags',\n",
       " 'Elite Classy Women Handbags',\n",
       " 'Elegant Fashionable Women Handbags',\n",
       " 'Classic Fashionable Women Handbags',\n",
       " 'Gorgeous Stylish Women Handbags',\n",
       " 'Trendy Alluring Women Handbags',\n",
       " 'Trendy Fashionable Women Handbags',\n",
       " 'Trendy Fancy Women Handbags',\n",
       " 'Elegant Versatile Women Handbags',\n",
       " 'Elegant Fancy Women Handbags',\n",
       " 'Trendy Fashionable Women Handbags',\n",
       " \"Trendy Women's Leather Handbag\",\n",
       " 'Classic Alluring Women Handbags',\n",
       " 'Classic Stylish Women Handbags',\n",
       " 'Ravishing Versatile Women Handbags',\n",
       " 'Voguish Classy Women Handbags',\n",
       " 'Classic Fancy Women Handbags']"
      ]
     },
     "execution_count": 54,
     "metadata": {},
     "output_type": "execute_result"
    }
   ],
   "source": [
    "Product_name"
   ]
  },
  {
   "cell_type": "code",
   "execution_count": 55,
   "id": "4dfadb73",
   "metadata": {},
   "outputs": [],
   "source": [
    "price=[]\n",
    "for i in soup.find_all('h5',class_=\"Text__StyledText-sc-oo0kvp-0 dLSsNI\"):\n",
    "    price.append(i.text)"
   ]
  },
  {
   "cell_type": "code",
   "execution_count": 56,
   "id": "86d2b52d",
   "metadata": {},
   "outputs": [
    {
     "data": {
      "text/plain": [
       "['₹300',\n",
       " '₹3035',\n",
       " '₹434',\n",
       " '₹567',\n",
       " '₹824',\n",
       " '₹303',\n",
       " '₹656',\n",
       " '₹625',\n",
       " '₹1099',\n",
       " '₹1146',\n",
       " '₹4949',\n",
       " '₹615',\n",
       " '₹761',\n",
       " '₹339',\n",
       " '₹645',\n",
       " '₹145',\n",
       " '₹145',\n",
       " '₹430',\n",
       " '₹750',\n",
       " '₹448']"
      ]
     },
     "execution_count": 56,
     "metadata": {},
     "output_type": "execute_result"
    }
   ],
   "source": [
    "price"
   ]
  },
  {
   "cell_type": "code",
   "execution_count": 57,
   "id": "966c0154",
   "metadata": {},
   "outputs": [],
   "source": [
    "discount=[]\n",
    "for i in soup.find_all('span',class_=\"Text__StyledText-sc-oo0kvp-0 cZvGTZ\"):\n",
    "    discount.append(i.text)"
   ]
  },
  {
   "cell_type": "code",
   "execution_count": 58,
   "id": "4ecb0b1f",
   "metadata": {},
   "outputs": [
    {
     "data": {
      "text/plain": [
       "['14% off',\n",
       " '2% off',\n",
       " '10% off',\n",
       " '8% off',\n",
       " '6% off',\n",
       " '14% off',\n",
       " '7% off',\n",
       " '7% off',\n",
       " '4% off',\n",
       " '4% off',\n",
       " '1% off',\n",
       " '8% off',\n",
       " '6% off',\n",
       " '13% off',\n",
       " '7% off',\n",
       " '15% off',\n",
       " '15% off',\n",
       " '10% off',\n",
       " '6% off',\n",
       " '10% off']"
      ]
     },
     "execution_count": 58,
     "metadata": {},
     "output_type": "execute_result"
    }
   ],
   "source": [
    "discount"
   ]
  },
  {
   "cell_type": "code",
   "execution_count": 59,
   "id": "0167259b",
   "metadata": {},
   "outputs": [],
   "source": [
    "#Making DataFrame\n",
    "import pandas as panda\n",
    "df=pd.DataFrame({'PRODUCT_NAME':Product_name,'PRICE':price,'DISCOUNTS':discount})"
   ]
  },
  {
   "cell_type": "code",
   "execution_count": 60,
   "id": "803bbc78",
   "metadata": {},
   "outputs": [
    {
     "data": {
      "text/html": [
       "<div>\n",
       "<style scoped>\n",
       "    .dataframe tbody tr th:only-of-type {\n",
       "        vertical-align: middle;\n",
       "    }\n",
       "\n",
       "    .dataframe tbody tr th {\n",
       "        vertical-align: top;\n",
       "    }\n",
       "\n",
       "    .dataframe thead th {\n",
       "        text-align: right;\n",
       "    }\n",
       "</style>\n",
       "<table border=\"1\" class=\"dataframe\">\n",
       "  <thead>\n",
       "    <tr style=\"text-align: right;\">\n",
       "      <th></th>\n",
       "      <th>PRODUCT_NAME</th>\n",
       "      <th>PRICE</th>\n",
       "      <th>DISCOUNTS</th>\n",
       "    </tr>\n",
       "  </thead>\n",
       "  <tbody>\n",
       "    <tr>\n",
       "      <th>0</th>\n",
       "      <td>Elite Alluring Women Handbags</td>\n",
       "      <td>₹300</td>\n",
       "      <td>14% off</td>\n",
       "    </tr>\n",
       "    <tr>\n",
       "      <th>1</th>\n",
       "      <td>Gorgeous Fancy Women Handbags</td>\n",
       "      <td>₹3035</td>\n",
       "      <td>2% off</td>\n",
       "    </tr>\n",
       "    <tr>\n",
       "      <th>2</th>\n",
       "      <td>Gorgeous Fancy Women Handbags</td>\n",
       "      <td>₹434</td>\n",
       "      <td>10% off</td>\n",
       "    </tr>\n",
       "    <tr>\n",
       "      <th>3</th>\n",
       "      <td>Voguish Stylish Women Handbags</td>\n",
       "      <td>₹567</td>\n",
       "      <td>8% off</td>\n",
       "    </tr>\n",
       "    <tr>\n",
       "      <th>4</th>\n",
       "      <td>Elite Classy Women Handbags</td>\n",
       "      <td>₹824</td>\n",
       "      <td>6% off</td>\n",
       "    </tr>\n",
       "    <tr>\n",
       "      <th>5</th>\n",
       "      <td>Elegant Fashionable Women Handbags</td>\n",
       "      <td>₹303</td>\n",
       "      <td>14% off</td>\n",
       "    </tr>\n",
       "    <tr>\n",
       "      <th>6</th>\n",
       "      <td>Classic Fashionable Women Handbags</td>\n",
       "      <td>₹656</td>\n",
       "      <td>7% off</td>\n",
       "    </tr>\n",
       "    <tr>\n",
       "      <th>7</th>\n",
       "      <td>Gorgeous Stylish Women Handbags</td>\n",
       "      <td>₹625</td>\n",
       "      <td>7% off</td>\n",
       "    </tr>\n",
       "    <tr>\n",
       "      <th>8</th>\n",
       "      <td>Trendy Alluring Women Handbags</td>\n",
       "      <td>₹1099</td>\n",
       "      <td>4% off</td>\n",
       "    </tr>\n",
       "    <tr>\n",
       "      <th>9</th>\n",
       "      <td>Trendy Fashionable Women Handbags</td>\n",
       "      <td>₹1146</td>\n",
       "      <td>4% off</td>\n",
       "    </tr>\n",
       "    <tr>\n",
       "      <th>10</th>\n",
       "      <td>Trendy Fancy Women Handbags</td>\n",
       "      <td>₹4949</td>\n",
       "      <td>1% off</td>\n",
       "    </tr>\n",
       "    <tr>\n",
       "      <th>11</th>\n",
       "      <td>Elegant Versatile Women Handbags</td>\n",
       "      <td>₹615</td>\n",
       "      <td>8% off</td>\n",
       "    </tr>\n",
       "    <tr>\n",
       "      <th>12</th>\n",
       "      <td>Elegant Fancy Women Handbags</td>\n",
       "      <td>₹761</td>\n",
       "      <td>6% off</td>\n",
       "    </tr>\n",
       "    <tr>\n",
       "      <th>13</th>\n",
       "      <td>Trendy Fashionable Women Handbags</td>\n",
       "      <td>₹339</td>\n",
       "      <td>13% off</td>\n",
       "    </tr>\n",
       "    <tr>\n",
       "      <th>14</th>\n",
       "      <td>Trendy Women's Leather Handbag</td>\n",
       "      <td>₹645</td>\n",
       "      <td>7% off</td>\n",
       "    </tr>\n",
       "    <tr>\n",
       "      <th>15</th>\n",
       "      <td>Classic Alluring Women Handbags</td>\n",
       "      <td>₹145</td>\n",
       "      <td>15% off</td>\n",
       "    </tr>\n",
       "    <tr>\n",
       "      <th>16</th>\n",
       "      <td>Classic Stylish Women Handbags</td>\n",
       "      <td>₹145</td>\n",
       "      <td>15% off</td>\n",
       "    </tr>\n",
       "    <tr>\n",
       "      <th>17</th>\n",
       "      <td>Ravishing Versatile Women Handbags</td>\n",
       "      <td>₹430</td>\n",
       "      <td>10% off</td>\n",
       "    </tr>\n",
       "    <tr>\n",
       "      <th>18</th>\n",
       "      <td>Voguish Classy Women Handbags</td>\n",
       "      <td>₹750</td>\n",
       "      <td>6% off</td>\n",
       "    </tr>\n",
       "    <tr>\n",
       "      <th>19</th>\n",
       "      <td>Classic Fancy Women Handbags</td>\n",
       "      <td>₹448</td>\n",
       "      <td>10% off</td>\n",
       "    </tr>\n",
       "  </tbody>\n",
       "</table>\n",
       "</div>"
      ],
      "text/plain": [
       "                          PRODUCT_NAME  PRICE DISCOUNTS\n",
       "0        Elite Alluring Women Handbags   ₹300   14% off\n",
       "1        Gorgeous Fancy Women Handbags  ₹3035    2% off\n",
       "2        Gorgeous Fancy Women Handbags   ₹434   10% off\n",
       "3       Voguish Stylish Women Handbags   ₹567    8% off\n",
       "4          Elite Classy Women Handbags   ₹824    6% off\n",
       "5   Elegant Fashionable Women Handbags   ₹303   14% off\n",
       "6   Classic Fashionable Women Handbags   ₹656    7% off\n",
       "7      Gorgeous Stylish Women Handbags   ₹625    7% off\n",
       "8       Trendy Alluring Women Handbags  ₹1099    4% off\n",
       "9    Trendy Fashionable Women Handbags  ₹1146    4% off\n",
       "10         Trendy Fancy Women Handbags  ₹4949    1% off\n",
       "11    Elegant Versatile Women Handbags   ₹615    8% off\n",
       "12        Elegant Fancy Women Handbags   ₹761    6% off\n",
       "13   Trendy Fashionable Women Handbags   ₹339   13% off\n",
       "14      Trendy Women's Leather Handbag   ₹645    7% off\n",
       "15     Classic Alluring Women Handbags   ₹145   15% off\n",
       "16      Classic Stylish Women Handbags   ₹145   15% off\n",
       "17  Ravishing Versatile Women Handbags   ₹430   10% off\n",
       "18       Voguish Classy Women Handbags   ₹750    6% off\n",
       "19        Classic Fancy Women Handbags   ₹448   10% off"
      ]
     },
     "execution_count": 60,
     "metadata": {},
     "output_type": "execute_result"
    }
   ],
   "source": [
    "df"
   ]
  },
  {
   "cell_type": "markdown",
   "id": "97c861f9",
   "metadata": {},
   "source": [
    "# 5) Write a python program to scrape cricket rankings from icc-cricket.com. You have to scrape:\n",
    "a) Top 10 ODI teams in men’s cricket along with the records for matches, points and rating.\n",
    "b) Top 10 ODI Batsmen along with the records of their team and rating.\n",
    "c) Top 10 ODI bowlers along with the records of their team and rating.\n"
   ]
  },
  {
   "cell_type": "code",
   "execution_count": 61,
   "id": "727606d6",
   "metadata": {},
   "outputs": [],
   "source": [
    "import requests\n",
    "from bs4 import BeautifulSoup"
   ]
  },
  {
   "cell_type": "code",
   "execution_count": 62,
   "id": "49973ec8",
   "metadata": {},
   "outputs": [],
   "source": [
    "#Answer of question (a)Top 10 ODI teams in men’s cricket along with the records for matches, points and rating. "
   ]
  },
  {
   "cell_type": "code",
   "execution_count": 63,
   "id": "7e077bd1",
   "metadata": {},
   "outputs": [
    {
     "data": {
      "text/plain": [
       "<Response [200]>"
      ]
     },
     "execution_count": 63,
     "metadata": {},
     "output_type": "execute_result"
    }
   ],
   "source": [
    "url='https://www.icc-cricket.com/rankings/mens/team-rankings/test'\n",
    "page=requests.get(url)\n",
    "page"
   ]
  },
  {
   "cell_type": "code",
   "execution_count": 64,
   "id": "238bd14c",
   "metadata": {},
   "outputs": [],
   "source": [
    "soup=BeautifulSoup(page.content)"
   ]
  },
  {
   "cell_type": "code",
   "execution_count": 65,
   "id": "32311347",
   "metadata": {},
   "outputs": [
    {
     "data": {
      "text/plain": [
       "['Australia',\n",
       " 'India',\n",
       " 'New Zealand',\n",
       " 'South Africa',\n",
       " 'England',\n",
       " 'Pakistan',\n",
       " 'Sri Lanka',\n",
       " 'West Indies',\n",
       " 'Bangladesh',\n",
       " 'Zimbabwe']"
      ]
     },
     "execution_count": 65,
     "metadata": {},
     "output_type": "execute_result"
    }
   ],
   "source": [
    "match_name=[]\n",
    "for i in soup.find_all('span',class_=\"u-hide-phablet\"):\n",
    "    match_name.append(i.text)\n",
    "m=match_name[0:10]\n",
    "m"
   ]
  },
  {
   "cell_type": "code",
   "execution_count": 66,
   "id": "5df3a2c7",
   "metadata": {},
   "outputs": [
    {
     "data": {
      "text/plain": [
       "['3,208',\n",
       " '35',\n",
       " '4,116',\n",
       " '31',\n",
       " '3,561',\n",
       " '26',\n",
       " '2,622',\n",
       " '45',\n",
       " '4,351',\n",
       " '34',\n",
       " '3,163',\n",
       " '33',\n",
       " '2,683',\n",
       " '37',\n",
       " '2,984',\n",
       " '22',\n",
       " '1,157',\n",
       " '11',\n",
       " '342']"
      ]
     },
     "execution_count": 66,
     "metadata": {},
     "output_type": "execute_result"
    }
   ],
   "source": [
    "points=[]\n",
    "for i in soup.find_all('td',class_=\"rankings-block__banner--points\"):\n",
    "    points.append(i.text)\n",
    "for i in soup.find_all('td',class_=\"table-body__cell u-center-text\"):\n",
    "    points.append(i.text)\n",
    "points"
   ]
  },
  {
   "cell_type": "code",
   "execution_count": 67,
   "id": "8a4d3177",
   "metadata": {},
   "outputs": [
    {
     "data": {
      "text/plain": [
       "['3,208',\n",
       " '4,116',\n",
       " '3,561',\n",
       " '2,622',\n",
       " '4,351',\n",
       " '3,163',\n",
       " '2,683',\n",
       " '2,984',\n",
       " '1,157',\n",
       " '342']"
      ]
     },
     "execution_count": 67,
     "metadata": {},
     "output_type": "execute_result"
    }
   ],
   "source": [
    "i=1\n",
    "while(i<10):\n",
    "    points.pop(i)\n",
    "    i=i+1\n",
    "points"
   ]
  },
  {
   "cell_type": "code",
   "execution_count": 68,
   "id": "cb3ab9f0",
   "metadata": {},
   "outputs": [
    {
     "data": {
      "text/plain": [
       "['119', '118', '115', '101', '97', '93', '81', '81', '53', '31']"
      ]
     },
     "execution_count": 68,
     "metadata": {},
     "output_type": "execute_result"
    }
   ],
   "source": [
    "rating=[]\n",
    "for i in soup.find_all('td',class_=\"rankings-block__banner--rating u-text-right\"):\n",
    "    rating.append(i.text.replace('\\n',\"\").replace(' ',''))\n",
    "for i in soup.find_all('td',class_=\"table-body__cell u-text-right rating\"):\n",
    "    rating.append(i.text)\n",
    "rating"
   ]
  },
  {
   "cell_type": "code",
   "execution_count": 69,
   "id": "4ff158a9",
   "metadata": {},
   "outputs": [
    {
     "data": {
      "text/html": [
       "<div>\n",
       "<style scoped>\n",
       "    .dataframe tbody tr th:only-of-type {\n",
       "        vertical-align: middle;\n",
       "    }\n",
       "\n",
       "    .dataframe tbody tr th {\n",
       "        vertical-align: top;\n",
       "    }\n",
       "\n",
       "    .dataframe thead th {\n",
       "        text-align: right;\n",
       "    }\n",
       "</style>\n",
       "<table border=\"1\" class=\"dataframe\">\n",
       "  <thead>\n",
       "    <tr style=\"text-align: right;\">\n",
       "      <th></th>\n",
       "      <th>Top 10 ODI teams</th>\n",
       "      <th>Points</th>\n",
       "      <th>Rating</th>\n",
       "    </tr>\n",
       "  </thead>\n",
       "  <tbody>\n",
       "    <tr>\n",
       "      <th>0</th>\n",
       "      <td>Australia</td>\n",
       "      <td>3,208</td>\n",
       "      <td>119</td>\n",
       "    </tr>\n",
       "    <tr>\n",
       "      <th>1</th>\n",
       "      <td>India</td>\n",
       "      <td>4,116</td>\n",
       "      <td>118</td>\n",
       "    </tr>\n",
       "    <tr>\n",
       "      <th>2</th>\n",
       "      <td>New Zealand</td>\n",
       "      <td>3,561</td>\n",
       "      <td>115</td>\n",
       "    </tr>\n",
       "    <tr>\n",
       "      <th>3</th>\n",
       "      <td>South Africa</td>\n",
       "      <td>2,622</td>\n",
       "      <td>101</td>\n",
       "    </tr>\n",
       "    <tr>\n",
       "      <th>4</th>\n",
       "      <td>England</td>\n",
       "      <td>4,351</td>\n",
       "      <td>97</td>\n",
       "    </tr>\n",
       "    <tr>\n",
       "      <th>5</th>\n",
       "      <td>Pakistan</td>\n",
       "      <td>3,163</td>\n",
       "      <td>93</td>\n",
       "    </tr>\n",
       "    <tr>\n",
       "      <th>6</th>\n",
       "      <td>Sri Lanka</td>\n",
       "      <td>2,683</td>\n",
       "      <td>81</td>\n",
       "    </tr>\n",
       "    <tr>\n",
       "      <th>7</th>\n",
       "      <td>West Indies</td>\n",
       "      <td>2,984</td>\n",
       "      <td>81</td>\n",
       "    </tr>\n",
       "    <tr>\n",
       "      <th>8</th>\n",
       "      <td>Bangladesh</td>\n",
       "      <td>1,157</td>\n",
       "      <td>53</td>\n",
       "    </tr>\n",
       "    <tr>\n",
       "      <th>9</th>\n",
       "      <td>Zimbabwe</td>\n",
       "      <td>342</td>\n",
       "      <td>31</td>\n",
       "    </tr>\n",
       "  </tbody>\n",
       "</table>\n",
       "</div>"
      ],
      "text/plain": [
       "  Top 10 ODI teams Points Rating\n",
       "0        Australia  3,208    119\n",
       "1            India  4,116    118\n",
       "2      New Zealand  3,561    115\n",
       "3     South Africa  2,622    101\n",
       "4          England  4,351     97\n",
       "5         Pakistan  3,163     93\n",
       "6        Sri Lanka  2,683     81\n",
       "7      West Indies  2,984     81\n",
       "8       Bangladesh  1,157     53\n",
       "9         Zimbabwe    342     31"
      ]
     },
     "execution_count": 69,
     "metadata": {},
     "output_type": "execute_result"
    }
   ],
   "source": [
    "import pandas as pd \n",
    "df=pd.DataFrame({'Top 10 ODI teams':m,'Points':points,'Rating':rating})\n",
    "df"
   ]
  },
  {
   "cell_type": "code",
   "execution_count": 70,
   "id": "4b3e8f8f",
   "metadata": {},
   "outputs": [],
   "source": [
    "# Answer of question (b)Top 10 ODI Batsmen along with the records of their team and rating."
   ]
  },
  {
   "cell_type": "code",
   "execution_count": 71,
   "id": "e6baab39",
   "metadata": {},
   "outputs": [
    {
     "data": {
      "text/plain": [
       "<Response [200]>"
      ]
     },
     "execution_count": 71,
     "metadata": {},
     "output_type": "execute_result"
    }
   ],
   "source": [
    "url='https://www.icc-cricket.com/rankings/mens/player-rankings/odi'\n",
    "page=requests.get(url)\n",
    "page"
   ]
  },
  {
   "cell_type": "code",
   "execution_count": 72,
   "id": "372ec439",
   "metadata": {},
   "outputs": [],
   "source": [
    "soup=BeautifulSoup(page.content)"
   ]
  },
  {
   "cell_type": "code",
   "execution_count": 73,
   "id": "fc72975c",
   "metadata": {},
   "outputs": [
    {
     "data": {
      "text/plain": [
       "['Babar Azam',\n",
       " 'ViratKohli',\n",
       " 'RossTaylor',\n",
       " 'RohitSharma',\n",
       " 'QuintondeKock',\n",
       " 'JonnyBairstow',\n",
       " 'AaronFinch',\n",
       " 'RassievanderDussen',\n",
       " 'DavidWarner',\n",
       " 'Imam-ul-Haq']"
      ]
     },
     "execution_count": 73,
     "metadata": {},
     "output_type": "execute_result"
    }
   ],
   "source": [
    "batsman_name=[]\n",
    "for i in soup.find_all('div',class_=\"rankings-block__banner--name\"):\n",
    "    batsman_name.append(i.text)\n",
    "x=batsman_name[0:1]\n",
    "for i in soup.find_all('td',class_=\"table-body__cell name\"):\n",
    "    x.append(i.text.replace(' ','').replace(\"\\n\",''))\n",
    "batsman_name=x[0:10]\n",
    "batsman_name"
   ]
  },
  {
   "cell_type": "code",
   "execution_count": 74,
   "id": "5ae99c67",
   "metadata": {},
   "outputs": [],
   "source": [
    "team=[]\n",
    "for i in soup.find_all(\"span\",class_=\"table-body__logo-text\"):\n",
    "    team.append(i.text)\n",
    "team=team[0:9]\n",
    "team.insert(0,'PAK')"
   ]
  },
  {
   "cell_type": "code",
   "execution_count": 75,
   "id": "20efd6fc",
   "metadata": {},
   "outputs": [
    {
     "data": {
      "text/plain": [
       "['PAK', 'IND', 'NZ', 'IND', 'SA', 'ENG', 'AUS', 'SA', 'AUS', 'PAK']"
      ]
     },
     "execution_count": 75,
     "metadata": {},
     "output_type": "execute_result"
    }
   ],
   "source": [
    "team"
   ]
  },
  {
   "cell_type": "code",
   "execution_count": 76,
   "id": "3443d22e",
   "metadata": {},
   "outputs": [
    {
     "data": {
      "text/plain": [
       "['872', '811', '794', '791', '789', '775', '771', '769', '758', '746']"
      ]
     },
     "execution_count": 76,
     "metadata": {},
     "output_type": "execute_result"
    }
   ],
   "source": [
    "rating=[]\n",
    "for i in soup.find_all('div',class_=\"rankings-block__banner--rating\"):\n",
    "    rating.append(i.text)\n",
    "x=rating[0:1]\n",
    "for i in soup.find_all('td',class_=\"table-body__cell u-text-right rating\"):\n",
    "    x.append(i.text)\n",
    "rating=x[0:10]\n",
    "rating"
   ]
  },
  {
   "cell_type": "code",
   "execution_count": 77,
   "id": "56c90314",
   "metadata": {},
   "outputs": [
    {
     "data": {
      "text/html": [
       "<div>\n",
       "<style scoped>\n",
       "    .dataframe tbody tr th:only-of-type {\n",
       "        vertical-align: middle;\n",
       "    }\n",
       "\n",
       "    .dataframe tbody tr th {\n",
       "        vertical-align: top;\n",
       "    }\n",
       "\n",
       "    .dataframe thead th {\n",
       "        text-align: right;\n",
       "    }\n",
       "</style>\n",
       "<table border=\"1\" class=\"dataframe\">\n",
       "  <thead>\n",
       "    <tr style=\"text-align: right;\">\n",
       "      <th></th>\n",
       "      <th>Top 10 ODI Batsman</th>\n",
       "      <th>Team</th>\n",
       "      <th>Rating</th>\n",
       "    </tr>\n",
       "  </thead>\n",
       "  <tbody>\n",
       "    <tr>\n",
       "      <th>0</th>\n",
       "      <td>Babar Azam</td>\n",
       "      <td>PAK</td>\n",
       "      <td>872</td>\n",
       "    </tr>\n",
       "    <tr>\n",
       "      <th>1</th>\n",
       "      <td>ViratKohli</td>\n",
       "      <td>IND</td>\n",
       "      <td>811</td>\n",
       "    </tr>\n",
       "    <tr>\n",
       "      <th>2</th>\n",
       "      <td>RossTaylor</td>\n",
       "      <td>NZ</td>\n",
       "      <td>794</td>\n",
       "    </tr>\n",
       "    <tr>\n",
       "      <th>3</th>\n",
       "      <td>RohitSharma</td>\n",
       "      <td>IND</td>\n",
       "      <td>791</td>\n",
       "    </tr>\n",
       "    <tr>\n",
       "      <th>4</th>\n",
       "      <td>QuintondeKock</td>\n",
       "      <td>SA</td>\n",
       "      <td>789</td>\n",
       "    </tr>\n",
       "    <tr>\n",
       "      <th>5</th>\n",
       "      <td>JonnyBairstow</td>\n",
       "      <td>ENG</td>\n",
       "      <td>775</td>\n",
       "    </tr>\n",
       "    <tr>\n",
       "      <th>6</th>\n",
       "      <td>AaronFinch</td>\n",
       "      <td>AUS</td>\n",
       "      <td>771</td>\n",
       "    </tr>\n",
       "    <tr>\n",
       "      <th>7</th>\n",
       "      <td>RassievanderDussen</td>\n",
       "      <td>SA</td>\n",
       "      <td>769</td>\n",
       "    </tr>\n",
       "    <tr>\n",
       "      <th>8</th>\n",
       "      <td>DavidWarner</td>\n",
       "      <td>AUS</td>\n",
       "      <td>758</td>\n",
       "    </tr>\n",
       "    <tr>\n",
       "      <th>9</th>\n",
       "      <td>Imam-ul-Haq</td>\n",
       "      <td>PAK</td>\n",
       "      <td>746</td>\n",
       "    </tr>\n",
       "  </tbody>\n",
       "</table>\n",
       "</div>"
      ],
      "text/plain": [
       "   Top 10 ODI Batsman Team Rating\n",
       "0          Babar Azam  PAK    872\n",
       "1          ViratKohli  IND    811\n",
       "2          RossTaylor   NZ    794\n",
       "3         RohitSharma  IND    791\n",
       "4       QuintondeKock   SA    789\n",
       "5       JonnyBairstow  ENG    775\n",
       "6          AaronFinch  AUS    771\n",
       "7  RassievanderDussen   SA    769\n",
       "8         DavidWarner  AUS    758\n",
       "9         Imam-ul-Haq  PAK    746"
      ]
     },
     "execution_count": 77,
     "metadata": {},
     "output_type": "execute_result"
    }
   ],
   "source": [
    "import pandas as pd\n",
    "df=pd.DataFrame({\"Top 10 ODI Batsman\":batsman_name,'Team':team,'Rating':rating})\n",
    "df"
   ]
  },
  {
   "cell_type": "code",
   "execution_count": 78,
   "id": "396b1ed8",
   "metadata": {},
   "outputs": [],
   "source": [
    "# Answer Of Question (c)Top 10 ODI bowlers along with the records of their team and rating."
   ]
  },
  {
   "cell_type": "code",
   "execution_count": 79,
   "id": "de3af6e5",
   "metadata": {},
   "outputs": [
    {
     "data": {
      "text/plain": [
       "<Response [200]>"
      ]
     },
     "execution_count": 79,
     "metadata": {},
     "output_type": "execute_result"
    }
   ],
   "source": [
    "url=\"https://www.icc-cricket.com/rankings/mens/player-rankings/odi\"\n",
    "page=requests.get(url)\n",
    "page"
   ]
  },
  {
   "cell_type": "code",
   "execution_count": 80,
   "id": "2d8b4639",
   "metadata": {},
   "outputs": [],
   "source": [
    "soup=BeautifulSoup(page.content)"
   ]
  },
  {
   "cell_type": "code",
   "execution_count": 81,
   "id": "006e932a",
   "metadata": {},
   "outputs": [
    {
     "data": {
      "text/plain": [
       "['Trent Boult',\n",
       " 'Josh Hazlewood',\n",
       " 'Chris Woakes',\n",
       " 'Matt Henry',\n",
       " 'Mujeeb Ur Rahman',\n",
       " 'Jasprit Bumrah',\n",
       " 'Mehedi Hasan',\n",
       " 'Shakib Al Hasan',\n",
       " 'Adam Zampa',\n",
       " 'Rashid Khan']"
      ]
     },
     "execution_count": 81,
     "metadata": {},
     "output_type": "execute_result"
    }
   ],
   "source": [
    "bowler_name=[]\n",
    "for i in soup.find_all('div',class_=\"rankings-block__banner--name\"):\n",
    "    bowler_name.append(i.text)\n",
    "x=bowler_name[1:2]\n",
    "y=[]\n",
    "for i in soup.find_all('td',class_=\"table-body__cell name\"):\n",
    "    y.append(i.text.replace('\\n',''))\n",
    "z=y[9:18]\n",
    "x.extend(z)\n",
    "x"
   ]
  },
  {
   "cell_type": "code",
   "execution_count": 82,
   "id": "daa582f2",
   "metadata": {},
   "outputs": [
    {
     "data": {
      "text/plain": [
       "['NZ', 'AUS', 'ENG', 'NZ', 'AFG', 'IND', 'BAN', 'BAN', 'AUS', 'AFG']"
      ]
     },
     "execution_count": 82,
     "metadata": {},
     "output_type": "execute_result"
    }
   ],
   "source": [
    "team=[]\n",
    "for i in soup.find_all('span',class_=\"table-body__logo-text\"):\n",
    "    team.append(i.text)\n",
    "team=team[9:18]\n",
    "team.insert(0,\"NZ\")\n",
    "team"
   ]
  },
  {
   "cell_type": "code",
   "execution_count": 83,
   "id": "3bee0e4d",
   "metadata": {},
   "outputs": [
    {
     "data": {
      "text/plain": [
       "['733', '705', '700', '687', '681', '679', '661', '657', '650', '650']"
      ]
     },
     "execution_count": 83,
     "metadata": {},
     "output_type": "execute_result"
    }
   ],
   "source": [
    "rating=[]\n",
    "for i in soup.find_all('td',class_=\"table-body__cell u-text-right rating\"):\n",
    "    rating.append(i.text)\n",
    "rating=rating[9:18]\n",
    "rating.insert(0,'733')\n",
    "rating"
   ]
  },
  {
   "cell_type": "code",
   "execution_count": 84,
   "id": "9bb5a2cc",
   "metadata": {},
   "outputs": [
    {
     "data": {
      "text/html": [
       "<div>\n",
       "<style scoped>\n",
       "    .dataframe tbody tr th:only-of-type {\n",
       "        vertical-align: middle;\n",
       "    }\n",
       "\n",
       "    .dataframe tbody tr th {\n",
       "        vertical-align: top;\n",
       "    }\n",
       "\n",
       "    .dataframe thead th {\n",
       "        text-align: right;\n",
       "    }\n",
       "</style>\n",
       "<table border=\"1\" class=\"dataframe\">\n",
       "  <thead>\n",
       "    <tr style=\"text-align: right;\">\n",
       "      <th></th>\n",
       "      <th>Top 10 ODI bowlers</th>\n",
       "      <th>Team</th>\n",
       "      <th>Reating</th>\n",
       "    </tr>\n",
       "  </thead>\n",
       "  <tbody>\n",
       "    <tr>\n",
       "      <th>0</th>\n",
       "      <td>Trent Boult</td>\n",
       "      <td>NZ</td>\n",
       "      <td>733</td>\n",
       "    </tr>\n",
       "    <tr>\n",
       "      <th>1</th>\n",
       "      <td>Josh Hazlewood</td>\n",
       "      <td>AUS</td>\n",
       "      <td>705</td>\n",
       "    </tr>\n",
       "    <tr>\n",
       "      <th>2</th>\n",
       "      <td>Chris Woakes</td>\n",
       "      <td>ENG</td>\n",
       "      <td>700</td>\n",
       "    </tr>\n",
       "    <tr>\n",
       "      <th>3</th>\n",
       "      <td>Matt Henry</td>\n",
       "      <td>NZ</td>\n",
       "      <td>687</td>\n",
       "    </tr>\n",
       "    <tr>\n",
       "      <th>4</th>\n",
       "      <td>Mujeeb Ur Rahman</td>\n",
       "      <td>AFG</td>\n",
       "      <td>681</td>\n",
       "    </tr>\n",
       "    <tr>\n",
       "      <th>5</th>\n",
       "      <td>Jasprit Bumrah</td>\n",
       "      <td>IND</td>\n",
       "      <td>679</td>\n",
       "    </tr>\n",
       "    <tr>\n",
       "      <th>6</th>\n",
       "      <td>Mehedi Hasan</td>\n",
       "      <td>BAN</td>\n",
       "      <td>661</td>\n",
       "    </tr>\n",
       "    <tr>\n",
       "      <th>7</th>\n",
       "      <td>Shakib Al Hasan</td>\n",
       "      <td>BAN</td>\n",
       "      <td>657</td>\n",
       "    </tr>\n",
       "    <tr>\n",
       "      <th>8</th>\n",
       "      <td>Adam Zampa</td>\n",
       "      <td>AUS</td>\n",
       "      <td>650</td>\n",
       "    </tr>\n",
       "    <tr>\n",
       "      <th>9</th>\n",
       "      <td>Rashid Khan</td>\n",
       "      <td>AFG</td>\n",
       "      <td>650</td>\n",
       "    </tr>\n",
       "  </tbody>\n",
       "</table>\n",
       "</div>"
      ],
      "text/plain": [
       "  Top 10 ODI bowlers Team Reating\n",
       "0        Trent Boult   NZ     733\n",
       "1     Josh Hazlewood  AUS     705\n",
       "2       Chris Woakes  ENG     700\n",
       "3         Matt Henry   NZ     687\n",
       "4   Mujeeb Ur Rahman  AFG     681\n",
       "5     Jasprit Bumrah  IND     679\n",
       "6       Mehedi Hasan  BAN     661\n",
       "7    Shakib Al Hasan  BAN     657\n",
       "8         Adam Zampa  AUS     650\n",
       "9        Rashid Khan  AFG     650"
      ]
     },
     "execution_count": 84,
     "metadata": {},
     "output_type": "execute_result"
    }
   ],
   "source": [
    "import pandas as pd\n",
    "df=pd.DataFrame({'Top 10 ODI bowlers':x,'Team':team,'Reating':rating})\n",
    "df"
   ]
  },
  {
   "cell_type": "markdown",
   "id": "e3883f5b",
   "metadata": {},
   "source": [
    "# 6) Write a python program to scrape cricket rankings from icc-cricket.com. You have to scrape:\n",
    "a) Top 10 ODI teams in women’s cricket along with the records for matches, points and rating.\n",
    "b) Top 10 women’s ODI Batting players along with the records of their team and rating.\n",
    "c) Top 10 women’s ODI all-rounder along with the records of their team and ratin"
   ]
  },
  {
   "cell_type": "code",
   "execution_count": 85,
   "id": "4fbaa655",
   "metadata": {},
   "outputs": [],
   "source": [
    "import requests\n",
    "from bs4 import BeautifulSoup"
   ]
  },
  {
   "cell_type": "code",
   "execution_count": 86,
   "id": "5224ec58",
   "metadata": {},
   "outputs": [],
   "source": [
    "#Answer of Question (a)Top 10 ODI teams in women’s cricket along with the records for matches, points and rating."
   ]
  },
  {
   "cell_type": "code",
   "execution_count": 87,
   "id": "9ba66568",
   "metadata": {},
   "outputs": [
    {
     "data": {
      "text/plain": [
       "<Response [200]>"
      ]
     },
     "execution_count": 87,
     "metadata": {},
     "output_type": "execute_result"
    }
   ],
   "source": [
    "url='https://www.icc-cricket.com/rankings/womens/team-rankings/odi'\n",
    "page=requests.get(url)\n",
    "page"
   ]
  },
  {
   "cell_type": "code",
   "execution_count": 88,
   "id": "21791dd7",
   "metadata": {},
   "outputs": [],
   "source": [
    "soup=BeautifulSoup(page.content)"
   ]
  },
  {
   "cell_type": "code",
   "execution_count": 89,
   "id": "1fa81f7a",
   "metadata": {},
   "outputs": [
    {
     "data": {
      "text/plain": [
       "['Australia',\n",
       " 'South Africa',\n",
       " 'England',\n",
       " 'India',\n",
       " 'New Zealand',\n",
       " 'West Indies',\n",
       " 'Bangladesh',\n",
       " 'Pakistan',\n",
       " 'Ireland',\n",
       " 'Sri Lanka']"
      ]
     },
     "execution_count": 89,
     "metadata": {},
     "output_type": "execute_result"
    }
   ],
   "source": [
    "match_name=[]\n",
    "for i in soup.find_all('span',class_=\"u-hide-phablet\"):\n",
    "    match_name.append(i.text)\n",
    "m=match_name[0:10]\n",
    "m"
   ]
  },
  {
   "cell_type": "code",
   "execution_count": 90,
   "id": "ccfb2388",
   "metadata": {},
   "outputs": [
    {
     "data": {
      "text/plain": [
       "['4,663',\n",
       " '28',\n",
       " '3,504',\n",
       " '29',\n",
       " '3,425',\n",
       " '29',\n",
       " '2,890',\n",
       " '31',\n",
       " '3,018',\n",
       " '28',\n",
       " '2,478',\n",
       " '12',\n",
       " '935',\n",
       " '26',\n",
       " '1,753',\n",
       " '5',\n",
       " '240',\n",
       " '5',\n",
       " '233',\n",
       " '8',\n",
       " '0']"
      ]
     },
     "execution_count": 90,
     "metadata": {},
     "output_type": "execute_result"
    }
   ],
   "source": [
    "points=[]\n",
    "for i in soup.find_all('td',class_=\"rankings-block__banner--points\"):\n",
    "    points.append(i.text)\n",
    "for i in soup.find_all('td',class_=\"table-body__cell u-center-text\"):\n",
    "    points.append(i.text)\n",
    "points"
   ]
  },
  {
   "cell_type": "code",
   "execution_count": 91,
   "id": "516635d8",
   "metadata": {},
   "outputs": [],
   "source": [
    "i=1\n",
    "while(i<11):\n",
    "    points.pop(i)\n",
    "    i=i+1\n",
    "points=points[0:10]"
   ]
  },
  {
   "cell_type": "code",
   "execution_count": 92,
   "id": "7891bba6",
   "metadata": {},
   "outputs": [],
   "source": [
    "rating=[]\n",
    "for i in soup.find_all('td',class_=\"rankings-block__banner--rating u-text-right\"):\n",
    "    rating.append(i.text.replace('\\n',\"\").replace(' ',''))\n",
    "for i in soup.find_all('td',class_=\"table-body__cell u-text-right rating\"):\n",
    "    rating.append(i.text)\n",
    "rating=rating[0:10]"
   ]
  },
  {
   "cell_type": "code",
   "execution_count": 93,
   "id": "93f491bc",
   "metadata": {},
   "outputs": [
    {
     "data": {
      "text/html": [
       "<div>\n",
       "<style scoped>\n",
       "    .dataframe tbody tr th:only-of-type {\n",
       "        vertical-align: middle;\n",
       "    }\n",
       "\n",
       "    .dataframe tbody tr th {\n",
       "        vertical-align: top;\n",
       "    }\n",
       "\n",
       "    .dataframe thead th {\n",
       "        text-align: right;\n",
       "    }\n",
       "</style>\n",
       "<table border=\"1\" class=\"dataframe\">\n",
       "  <thead>\n",
       "    <tr style=\"text-align: right;\">\n",
       "      <th></th>\n",
       "      <th>Top 10 ODI teams</th>\n",
       "      <th>Points</th>\n",
       "      <th>Rating</th>\n",
       "    </tr>\n",
       "  </thead>\n",
       "  <tbody>\n",
       "    <tr>\n",
       "      <th>0</th>\n",
       "      <td>Australia</td>\n",
       "      <td>4,663</td>\n",
       "      <td>167</td>\n",
       "    </tr>\n",
       "    <tr>\n",
       "      <th>1</th>\n",
       "      <td>South Africa</td>\n",
       "      <td>3,504</td>\n",
       "      <td>125</td>\n",
       "    </tr>\n",
       "    <tr>\n",
       "      <th>2</th>\n",
       "      <td>England</td>\n",
       "      <td>3,425</td>\n",
       "      <td>118</td>\n",
       "    </tr>\n",
       "    <tr>\n",
       "      <th>3</th>\n",
       "      <td>India</td>\n",
       "      <td>2,890</td>\n",
       "      <td>100</td>\n",
       "    </tr>\n",
       "    <tr>\n",
       "      <th>4</th>\n",
       "      <td>New Zealand</td>\n",
       "      <td>3,018</td>\n",
       "      <td>97</td>\n",
       "    </tr>\n",
       "    <tr>\n",
       "      <th>5</th>\n",
       "      <td>West Indies</td>\n",
       "      <td>2,478</td>\n",
       "      <td>89</td>\n",
       "    </tr>\n",
       "    <tr>\n",
       "      <th>6</th>\n",
       "      <td>Bangladesh</td>\n",
       "      <td>935</td>\n",
       "      <td>78</td>\n",
       "    </tr>\n",
       "    <tr>\n",
       "      <th>7</th>\n",
       "      <td>Pakistan</td>\n",
       "      <td>1,753</td>\n",
       "      <td>67</td>\n",
       "    </tr>\n",
       "    <tr>\n",
       "      <th>8</th>\n",
       "      <td>Ireland</td>\n",
       "      <td>240</td>\n",
       "      <td>48</td>\n",
       "    </tr>\n",
       "    <tr>\n",
       "      <th>9</th>\n",
       "      <td>Sri Lanka</td>\n",
       "      <td>233</td>\n",
       "      <td>47</td>\n",
       "    </tr>\n",
       "  </tbody>\n",
       "</table>\n",
       "</div>"
      ],
      "text/plain": [
       "  Top 10 ODI teams Points Rating\n",
       "0        Australia  4,663    167\n",
       "1     South Africa  3,504    125\n",
       "2          England  3,425    118\n",
       "3            India  2,890    100\n",
       "4      New Zealand  3,018     97\n",
       "5      West Indies  2,478     89\n",
       "6       Bangladesh    935     78\n",
       "7         Pakistan  1,753     67\n",
       "8          Ireland    240     48\n",
       "9        Sri Lanka    233     47"
      ]
     },
     "execution_count": 93,
     "metadata": {},
     "output_type": "execute_result"
    }
   ],
   "source": [
    "import pandas as pd \n",
    "df=pd.DataFrame({'Top 10 ODI teams':m,'Points':points,'Rating':rating})\n",
    "df"
   ]
  },
  {
   "cell_type": "code",
   "execution_count": null,
   "id": "ecae5cf5",
   "metadata": {},
   "outputs": [],
   "source": [
    "Answer of question (b) Top 10 women’s ODI Batting players along with the records of their team and rating."
   ]
  },
  {
   "cell_type": "code",
   "execution_count": 94,
   "id": "9b267ed8",
   "metadata": {},
   "outputs": [
    {
     "data": {
      "text/plain": [
       "<Response [200]>"
      ]
     },
     "execution_count": 94,
     "metadata": {},
     "output_type": "execute_result"
    }
   ],
   "source": [
    "url='https://www.icc-cricket.com/rankings/womens/player-rankings/odi'\n",
    "page=requests.get(url)\n",
    "page"
   ]
  },
  {
   "cell_type": "code",
   "execution_count": 95,
   "id": "ce579202",
   "metadata": {},
   "outputs": [],
   "source": [
    "soup=BeautifulSoup(page.content)"
   ]
  },
  {
   "cell_type": "code",
   "execution_count": 96,
   "id": "dd3c6237",
   "metadata": {},
   "outputs": [
    {
     "data": {
      "text/plain": [
       "['Laura Wolvaardt',\n",
       " 'Beth Mooney',\n",
       " 'Meg Lanning',\n",
       " 'Natalie Sciver',\n",
       " 'Alyssa Healy',\n",
       " 'Mithali Raj',\n",
       " 'Rachael Haynes',\n",
       " 'Tammy Beaumont',\n",
       " 'Amy Satterthwaite',\n",
       " 'Smriti Mandhana']"
      ]
     },
     "execution_count": 96,
     "metadata": {},
     "output_type": "execute_result"
    }
   ],
   "source": [
    "batsman_name=[]\n",
    "for i in soup.find_all('div',class_=\"rankings-block__banner--name\"):\n",
    "    batsman_name.append(i.text)\n",
    "x=batsman_name[0:1]\n",
    "for i in soup.find_all('td',class_=\"table-body__cell name\"):\n",
    "    x.append(i.text.replace(\"\\n\",''))\n",
    "batsman_name=x[0:10]\n",
    "batsman_name"
   ]
  },
  {
   "cell_type": "code",
   "execution_count": 97,
   "id": "78831653",
   "metadata": {},
   "outputs": [
    {
     "data": {
      "text/plain": [
       "['PAK', 'AUS', 'AUS', 'ENG', 'AUS', 'IND', 'AUS', 'ENG', 'NZ', 'IND']"
      ]
     },
     "execution_count": 97,
     "metadata": {},
     "output_type": "execute_result"
    }
   ],
   "source": [
    "team=[]\n",
    "for i in soup.find_all(\"span\",class_=\"table-body__logo-text\"):\n",
    "    team.append(i.text)\n",
    "team=team[0:9]\n",
    "team.insert(0,'PAK')\n",
    "team"
   ]
  },
  {
   "cell_type": "code",
   "execution_count": 98,
   "id": "362a39e3",
   "metadata": {},
   "outputs": [
    {
     "data": {
      "text/plain": [
       "['740', '726', '718', '705', '703', '686', '684', '682', '681', '669']"
      ]
     },
     "execution_count": 98,
     "metadata": {},
     "output_type": "execute_result"
    }
   ],
   "source": [
    "rating=[]\n",
    "for i in soup.find_all('div',class_=\"rankings-block__banner--rating\"):\n",
    "    rating.append(i.text)\n",
    "x=rating[0:1]\n",
    "for i in soup.find_all('td',class_=\"table-body__cell u-text-right rating\"):\n",
    "    x.append(i.text)\n",
    "rating=x[0:10]\n",
    "rating"
   ]
  },
  {
   "cell_type": "code",
   "execution_count": 99,
   "id": "2b52c24e",
   "metadata": {},
   "outputs": [
    {
     "data": {
      "text/html": [
       "<div>\n",
       "<style scoped>\n",
       "    .dataframe tbody tr th:only-of-type {\n",
       "        vertical-align: middle;\n",
       "    }\n",
       "\n",
       "    .dataframe tbody tr th {\n",
       "        vertical-align: top;\n",
       "    }\n",
       "\n",
       "    .dataframe thead th {\n",
       "        text-align: right;\n",
       "    }\n",
       "</style>\n",
       "<table border=\"1\" class=\"dataframe\">\n",
       "  <thead>\n",
       "    <tr style=\"text-align: right;\">\n",
       "      <th></th>\n",
       "      <th>Top 10 ODI Batsman</th>\n",
       "      <th>Team</th>\n",
       "      <th>Rating</th>\n",
       "    </tr>\n",
       "  </thead>\n",
       "  <tbody>\n",
       "    <tr>\n",
       "      <th>0</th>\n",
       "      <td>Laura Wolvaardt</td>\n",
       "      <td>PAK</td>\n",
       "      <td>740</td>\n",
       "    </tr>\n",
       "    <tr>\n",
       "      <th>1</th>\n",
       "      <td>Beth Mooney</td>\n",
       "      <td>AUS</td>\n",
       "      <td>726</td>\n",
       "    </tr>\n",
       "    <tr>\n",
       "      <th>2</th>\n",
       "      <td>Meg Lanning</td>\n",
       "      <td>AUS</td>\n",
       "      <td>718</td>\n",
       "    </tr>\n",
       "    <tr>\n",
       "      <th>3</th>\n",
       "      <td>Natalie Sciver</td>\n",
       "      <td>ENG</td>\n",
       "      <td>705</td>\n",
       "    </tr>\n",
       "    <tr>\n",
       "      <th>4</th>\n",
       "      <td>Alyssa Healy</td>\n",
       "      <td>AUS</td>\n",
       "      <td>703</td>\n",
       "    </tr>\n",
       "    <tr>\n",
       "      <th>5</th>\n",
       "      <td>Mithali Raj</td>\n",
       "      <td>IND</td>\n",
       "      <td>686</td>\n",
       "    </tr>\n",
       "    <tr>\n",
       "      <th>6</th>\n",
       "      <td>Rachael Haynes</td>\n",
       "      <td>AUS</td>\n",
       "      <td>684</td>\n",
       "    </tr>\n",
       "    <tr>\n",
       "      <th>7</th>\n",
       "      <td>Tammy Beaumont</td>\n",
       "      <td>ENG</td>\n",
       "      <td>682</td>\n",
       "    </tr>\n",
       "    <tr>\n",
       "      <th>8</th>\n",
       "      <td>Amy Satterthwaite</td>\n",
       "      <td>NZ</td>\n",
       "      <td>681</td>\n",
       "    </tr>\n",
       "    <tr>\n",
       "      <th>9</th>\n",
       "      <td>Smriti Mandhana</td>\n",
       "      <td>IND</td>\n",
       "      <td>669</td>\n",
       "    </tr>\n",
       "  </tbody>\n",
       "</table>\n",
       "</div>"
      ],
      "text/plain": [
       "  Top 10 ODI Batsman Team Rating\n",
       "0    Laura Wolvaardt  PAK    740\n",
       "1        Beth Mooney  AUS    726\n",
       "2        Meg Lanning  AUS    718\n",
       "3     Natalie Sciver  ENG    705\n",
       "4       Alyssa Healy  AUS    703\n",
       "5        Mithali Raj  IND    686\n",
       "6     Rachael Haynes  AUS    684\n",
       "7     Tammy Beaumont  ENG    682\n",
       "8  Amy Satterthwaite   NZ    681\n",
       "9    Smriti Mandhana  IND    669"
      ]
     },
     "execution_count": 99,
     "metadata": {},
     "output_type": "execute_result"
    }
   ],
   "source": [
    "import pandas as pd\n",
    "df=pd.DataFrame({\"Top 10 ODI Batsman\":batsman_name,'Team':team,'Rating':rating})\n",
    "df"
   ]
  },
  {
   "cell_type": "code",
   "execution_count": 101,
   "id": "654804c5",
   "metadata": {},
   "outputs": [],
   "source": [
    "#Answer of question (c)Top 10 women’s ODI all-rounder along with the records of their team and ratin"
   ]
  },
  {
   "cell_type": "code",
   "execution_count": 102,
   "id": "1fe26d75",
   "metadata": {},
   "outputs": [
    {
     "data": {
      "text/plain": [
       "<Response [200]>"
      ]
     },
     "execution_count": 102,
     "metadata": {},
     "output_type": "execute_result"
    }
   ],
   "source": [
    "url=\"https://www.icc-cricket.com/rankings/womens/player-rankings/odi\"\n",
    "page=requests.get(url)\n",
    "page"
   ]
  },
  {
   "cell_type": "code",
   "execution_count": 103,
   "id": "00486d6f",
   "metadata": {},
   "outputs": [],
   "source": [
    "soup=BeautifulSoup(page.content)"
   ]
  },
  {
   "cell_type": "code",
   "execution_count": 104,
   "id": "3feaeb3f",
   "metadata": {},
   "outputs": [],
   "source": [
    "player_name=[]\n",
    "for i in soup.find_all('div',class_=\"rankings-block__banner--name\"):\n",
    "    player_name.append(i.text)\n",
    "x=player_name[2:3]"
   ]
  },
  {
   "cell_type": "code",
   "execution_count": 105,
   "id": "4603c41d",
   "metadata": {},
   "outputs": [
    {
     "data": {
      "text/plain": [
       "['Ellyse Perry']"
      ]
     },
     "execution_count": 105,
     "metadata": {},
     "output_type": "execute_result"
    }
   ],
   "source": [
    "x"
   ]
  },
  {
   "cell_type": "code",
   "execution_count": 106,
   "id": "d4cf59fc",
   "metadata": {},
   "outputs": [
    {
     "data": {
      "text/plain": [
       "['Natalie Sciver',\n",
       " 'Marizanne Kapp',\n",
       " 'Hayley Matthews',\n",
       " 'Amelia Kerr',\n",
       " 'Ashleigh Gardner',\n",
       " 'Deepti Sharma',\n",
       " 'Jess Jonassen',\n",
       " 'Katherine Brunt',\n",
       " 'Jhulan Goswami']"
      ]
     },
     "execution_count": 106,
     "metadata": {},
     "output_type": "execute_result"
    }
   ],
   "source": [
    "y=[]\n",
    "for i in soup.find_all(\"td\",class_=\"table-body__cell name\"):\n",
    "    y.append(i.text.replace(\"\\n\",''))\n",
    "y=y[18:27]\n",
    "y"
   ]
  },
  {
   "cell_type": "code",
   "execution_count": 107,
   "id": "742aa1f5",
   "metadata": {},
   "outputs": [
    {
     "data": {
      "text/plain": [
       "['Ellyse Perry',\n",
       " 'Natalie Sciver',\n",
       " 'Marizanne Kapp',\n",
       " 'Hayley Matthews',\n",
       " 'Amelia Kerr',\n",
       " 'Ashleigh Gardner',\n",
       " 'Deepti Sharma',\n",
       " 'Jess Jonassen',\n",
       " 'Katherine Brunt',\n",
       " 'Jhulan Goswami']"
      ]
     },
     "execution_count": 107,
     "metadata": {},
     "output_type": "execute_result"
    }
   ],
   "source": [
    "x.extend(y)\n",
    "x"
   ]
  },
  {
   "cell_type": "code",
   "execution_count": 108,
   "id": "36292c69",
   "metadata": {},
   "outputs": [
    {
     "data": {
      "text/plain": [
       "['AUS', 'ENG', 'SA', 'WI', 'NZ', 'AUS', 'IND', 'AUS', 'ENG', 'IND']"
      ]
     },
     "execution_count": 108,
     "metadata": {},
     "output_type": "execute_result"
    }
   ],
   "source": [
    "team=[]\n",
    "for i in soup.find_all('span',class_=\"table-body__logo-text\"):\n",
    "    team.append(i.text)\n",
    "team=team[18:27]\n",
    "team.insert(0,\"AUS\")\n",
    "team"
   ]
  },
  {
   "cell_type": "code",
   "execution_count": 109,
   "id": "60be55a8",
   "metadata": {},
   "outputs": [
    {
     "data": {
      "text/plain": [
       "['404', '376', '359', '340', '335', '278', '249', '246', '239', '217']"
      ]
     },
     "execution_count": 109,
     "metadata": {},
     "output_type": "execute_result"
    }
   ],
   "source": [
    "rating=[]\n",
    "for i in soup.find_all(\"td\",class_=\"table-body__cell u-text-right rating\"):\n",
    "    rating.append(i.text)\n",
    "rating=rating[18:27]\n",
    "rating.insert(0,'404')\n",
    "rating"
   ]
  },
  {
   "cell_type": "code",
   "execution_count": 110,
   "id": "ab4cca9c",
   "metadata": {},
   "outputs": [
    {
     "data": {
      "text/html": [
       "<div>\n",
       "<style scoped>\n",
       "    .dataframe tbody tr th:only-of-type {\n",
       "        vertical-align: middle;\n",
       "    }\n",
       "\n",
       "    .dataframe tbody tr th {\n",
       "        vertical-align: top;\n",
       "    }\n",
       "\n",
       "    .dataframe thead th {\n",
       "        text-align: right;\n",
       "    }\n",
       "</style>\n",
       "<table border=\"1\" class=\"dataframe\">\n",
       "  <thead>\n",
       "    <tr style=\"text-align: right;\">\n",
       "      <th></th>\n",
       "      <th>Top 10 women’s ODI all-rounder</th>\n",
       "      <th>Team</th>\n",
       "      <th>Rating</th>\n",
       "    </tr>\n",
       "  </thead>\n",
       "  <tbody>\n",
       "    <tr>\n",
       "      <th>0</th>\n",
       "      <td>Ellyse Perry</td>\n",
       "      <td>AUS</td>\n",
       "      <td>404</td>\n",
       "    </tr>\n",
       "    <tr>\n",
       "      <th>1</th>\n",
       "      <td>Natalie Sciver</td>\n",
       "      <td>ENG</td>\n",
       "      <td>376</td>\n",
       "    </tr>\n",
       "    <tr>\n",
       "      <th>2</th>\n",
       "      <td>Marizanne Kapp</td>\n",
       "      <td>SA</td>\n",
       "      <td>359</td>\n",
       "    </tr>\n",
       "    <tr>\n",
       "      <th>3</th>\n",
       "      <td>Hayley Matthews</td>\n",
       "      <td>WI</td>\n",
       "      <td>340</td>\n",
       "    </tr>\n",
       "    <tr>\n",
       "      <th>4</th>\n",
       "      <td>Amelia Kerr</td>\n",
       "      <td>NZ</td>\n",
       "      <td>335</td>\n",
       "    </tr>\n",
       "    <tr>\n",
       "      <th>5</th>\n",
       "      <td>Ashleigh Gardner</td>\n",
       "      <td>AUS</td>\n",
       "      <td>278</td>\n",
       "    </tr>\n",
       "    <tr>\n",
       "      <th>6</th>\n",
       "      <td>Deepti Sharma</td>\n",
       "      <td>IND</td>\n",
       "      <td>249</td>\n",
       "    </tr>\n",
       "    <tr>\n",
       "      <th>7</th>\n",
       "      <td>Jess Jonassen</td>\n",
       "      <td>AUS</td>\n",
       "      <td>246</td>\n",
       "    </tr>\n",
       "    <tr>\n",
       "      <th>8</th>\n",
       "      <td>Katherine Brunt</td>\n",
       "      <td>ENG</td>\n",
       "      <td>239</td>\n",
       "    </tr>\n",
       "    <tr>\n",
       "      <th>9</th>\n",
       "      <td>Jhulan Goswami</td>\n",
       "      <td>IND</td>\n",
       "      <td>217</td>\n",
       "    </tr>\n",
       "  </tbody>\n",
       "</table>\n",
       "</div>"
      ],
      "text/plain": [
       "  Top 10 women’s ODI all-rounder Team Rating\n",
       "0                   Ellyse Perry  AUS    404\n",
       "1                 Natalie Sciver  ENG    376\n",
       "2                 Marizanne Kapp   SA    359\n",
       "3                Hayley Matthews   WI    340\n",
       "4                    Amelia Kerr   NZ    335\n",
       "5               Ashleigh Gardner  AUS    278\n",
       "6                  Deepti Sharma  IND    249\n",
       "7                  Jess Jonassen  AUS    246\n",
       "8                Katherine Brunt  ENG    239\n",
       "9                 Jhulan Goswami  IND    217"
      ]
     },
     "execution_count": 110,
     "metadata": {},
     "output_type": "execute_result"
    }
   ],
   "source": [
    "import pandas as pd \n",
    "df=pd.DataFrame({\"Top 10 women’s ODI all-rounder\":x,'Team':team,'Rating':rating})\n",
    "df"
   ]
  },
  {
   "cell_type": "markdown",
   "id": "a0fae003",
   "metadata": {},
   "source": [
    "# 7) Write a python program to scrape details of all the posts from coreyms.com. Scrape the heading, date, content and the code for the video from the link for the youtube video from the post.\n"
   ]
  },
  {
   "cell_type": "code",
   "execution_count": 111,
   "id": "b8d1ee4d",
   "metadata": {},
   "outputs": [],
   "source": [
    "import requests\n",
    "from bs4 import BeautifulSoup"
   ]
  },
  {
   "cell_type": "code",
   "execution_count": 112,
   "id": "f5a04f6c",
   "metadata": {},
   "outputs": [],
   "source": [
    "url=\"https://coreyms.com/\"\n",
    "page=requests.get(url)\n",
    "soup=BeautifulSoup(page.content)"
   ]
  },
  {
   "cell_type": "code",
   "execution_count": 113,
   "id": "59cfce1a",
   "metadata": {},
   "outputs": [
    {
     "data": {
      "text/plain": [
       "'Update (2019-09-03)'"
      ]
     },
     "execution_count": 113,
     "metadata": {},
     "output_type": "execute_result"
    }
   ],
   "source": [
    "heading=[]\n",
    "for i in soup.find_all(\"a\",class_=\"entry-title-link\"):\n",
    "    heading.append(i.text)\n",
    "heading.pop(4)"
   ]
  },
  {
   "cell_type": "code",
   "execution_count": 114,
   "id": "cf5d89bb",
   "metadata": {},
   "outputs": [
    {
     "data": {
      "text/plain": [
       "['Python Tutorial: Zip Files – Creating and Extracting Zip Archives',\n",
       " 'Python Data Science Tutorial: Analyzing the 2019 Stack Overflow Developer Survey',\n",
       " 'Python Multiprocessing Tutorial: Run Code in Parallel Using the Multiprocessing Module',\n",
       " 'Python Threading Tutorial: Run Code Concurrently Using the Threading Module',\n",
       " 'Python Quick Tip: The Difference Between “==” and “is” (Equality vs Identity)',\n",
       " 'Python Tutorial: Calling External Commands Using the Subprocess Module',\n",
       " 'Visual Studio Code (Windows) – Setting up a Python Development Environment and Complete Overview',\n",
       " 'Visual Studio Code (Mac) – Setting up a Python Development Environment and Complete Overview',\n",
       " 'Clarifying the Issues with Mutable Default Arguments']"
      ]
     },
     "execution_count": 114,
     "metadata": {},
     "output_type": "execute_result"
    }
   ],
   "source": [
    "heading"
   ]
  },
  {
   "cell_type": "code",
   "execution_count": 115,
   "id": "08158f24",
   "metadata": {},
   "outputs": [
    {
     "data": {
      "text/plain": [
       "['November 19, 2019',\n",
       " 'October 17, 2019',\n",
       " 'September 21, 2019',\n",
       " 'September 12, 2019',\n",
       " 'August 6, 2019',\n",
       " 'July 24, 2019',\n",
       " 'May 1, 2019',\n",
       " 'May 1, 2019',\n",
       " 'April 24, 2019']"
      ]
     },
     "execution_count": 115,
     "metadata": {},
     "output_type": "execute_result"
    }
   ],
   "source": [
    "date=[]\n",
    "for i in soup.find_all('time',class_=\"entry-time\"):\n",
    "    date.append(i.text)\n",
    "date.pop(4)\n",
    "date"
   ]
  },
  {
   "cell_type": "code",
   "execution_count": 116,
   "id": "352a3eb1",
   "metadata": {},
   "outputs": [
    {
     "data": {
      "text/plain": [
       "['In this video, we will be learning how to create and extract zip archives. We will start by using the zipfile module, and then we will see how to do this using the shutil module. We will learn how to do this with single files and directories, as well as learning how to use gzip as well. Let’s get started…',\n",
       " 'In this Python Programming video, we will be learning how to download and analyze real-world data from the 2019 Stack Overflow Developer Survey. This is terrific practice for anyone getting into the data science field. We will learn different ways to analyze this data and also some best practices. Let’s get started…',\n",
       " 'In this Python Programming video, we will be learning how to run code in parallel using the multiprocessing module. We will also look at how to process multiple high-resolution images at the same time using a ProcessPoolExecutor from the concurrent.futures module. Let’s get started…',\n",
       " 'In this Python Programming video, we will be learning how to run threads concurrently using the threading module. We will also look at how to download multiple high-resolution images online using a ThreadPoolExecutor from the concurrent.futures module. Let’s get started…',\n",
       " 'In this Python Programming Tutorial, we will be learning the difference between using “==” and the “is” keyword when doing comparisons. The difference between these is that “==” checks to see if values are equal, and the “is” keyword checks their identity, which means it’s going to check if the values are identical in terms of being the same object in memory. We’ll learn more in the video. Let’s get started…',\n",
       " 'In this Python Programming Tutorial, we will be learning how to run external commands using the subprocess module from the standard library. We will learn how to run commands, capture the output, handle errors, and also how to pipe output into other commands. Let’s get started…',\n",
       " 'In this Python Programming Tutorial, we will be learning how to set up a Python development environment in VSCode on Windows. VSCode is a very nice free editor for writing Python applications and many developers are now switching over to this editor. In this video, we will learn how to install VSCode, get the Python extension installed, how to change Python interpreters, create virtual environments, format/lint our code, how to use Git within VSCode, how to debug our programs, how unit testing works, and more. We have a lot to cover, so let’s go ahead and get started…VSCode on MacOS – https://youtu.be/06I63_p-2A4Timestamps for topics in this tutorial: Installation – 1:13 Python Extension – 5:48 Switching Interpreters – 10:04 Changing Color Themes – 12:35 VSCode Settings – 16:16 Set Default Python – 21:33 Using Virtual Environments – 25:10 IntelliSense – 29:45 Code Formatting – 32:13 Code Linting – 37:06 Code Runner Extension – 39:42 Git Integration – 47:44 Use Different Terminal – 51:07 Debugging – 58:45 Unit Testing – 1:03:25 Zen Mode – 1:09:55',\n",
       " 'In this Python Programming Tutorial, we will be learning how to set up a Python development environment in VSCode on MacOS. VSCode is a very nice free editor for writing Python applications and many developers are now switching over to this editor. In this video, we will learn how to install VSCode, get the Python extension installed, how to change Python interpreters, create virtual environments, format/lint our code, how to use Git within VSCode, how to debug our programs, how unit testing works, and more. We have a lot to cover, so let’s go ahead and get started…VSCode on Windows – https://youtu.be/-nh9rCzPJ20Timestamps for topics in this tutorial: Installation – 1:11 Python Extension – 6:21 Switching Interpreters – 10:16 Changing Color Themes – 13:08 VSCode Settings – 17:12 Set Default Python – 22:24 Using Virtual Environments – 25:52 IntelliSense – 30:28 Code Formatting – 33:08 Code Linting – 38:01 Code Runner Extension – 40:45 Git Integration – 49:05 Debugging – 58:15 Unit Testing – 1:02:38 Zen Mode – 1:10:42 ',\n",
       " 'In this Python Programming Tutorial, we will be clarifying the issues with mutable default arguments. We discussed this in my last video titled “5 Common Python Mistakes and How to Fix Them”, but I received many comments from people who were still confused. So we will be doing a deeper dive to explain exactly what is going on here. Let’s get started…']"
      ]
     },
     "execution_count": 116,
     "metadata": {},
     "output_type": "execute_result"
    }
   ],
   "source": [
    "content=[]\n",
    "for i in soup.find_all('div',class_=\"entry-content\"):\n",
    "    content.append(i.text.replace('\\n',\"\"))\n",
    "content.pop(4)\n",
    "content"
   ]
  },
  {
   "cell_type": "code",
   "execution_count": 117,
   "id": "871ce996",
   "metadata": {},
   "outputs": [
    {
     "data": {
      "text/plain": [
       "[<iframe allowfullscreen=\"true\" class=\"youtube-player\" height=\"360\" sandbox=\"allow-scripts allow-same-origin allow-popups allow-presentation\" src=\"https://www.youtube.com/embed/z0gguhEmWiY?version=3&amp;rel=1&amp;showsearch=0&amp;showinfo=1&amp;iv_load_policy=1&amp;fs=1&amp;hl=en-US&amp;autohide=2&amp;wmode=transparent\" style=\"border:0;\" width=\"640\"></iframe>,\n",
       " <iframe allowfullscreen=\"true\" class=\"youtube-player\" height=\"360\" sandbox=\"allow-scripts allow-same-origin allow-popups allow-presentation\" src=\"https://www.youtube.com/embed/_P7X8tMplsw?version=3&amp;rel=1&amp;showsearch=0&amp;showinfo=1&amp;iv_load_policy=1&amp;fs=1&amp;hl=en-US&amp;autohide=2&amp;wmode=transparent\" style=\"border:0;\" width=\"640\"></iframe>,\n",
       " <iframe allowfullscreen=\"true\" class=\"youtube-player\" height=\"360\" sandbox=\"allow-scripts allow-same-origin allow-popups allow-presentation\" src=\"https://www.youtube.com/embed/fKl2JW_qrso?version=3&amp;rel=1&amp;showsearch=0&amp;showinfo=1&amp;iv_load_policy=1&amp;fs=1&amp;hl=en-US&amp;autohide=2&amp;wmode=transparent\" style=\"border:0;\" width=\"640\"></iframe>,\n",
       " <iframe allowfullscreen=\"true\" class=\"youtube-player\" height=\"360\" sandbox=\"allow-scripts allow-same-origin allow-popups allow-presentation\" src=\"https://www.youtube.com/embed/IEEhzQoKtQU?version=3&amp;rel=1&amp;showsearch=0&amp;showinfo=1&amp;iv_load_policy=1&amp;fs=1&amp;hl=en-US&amp;autohide=2&amp;wmode=transparent\" style=\"border:0;\" width=\"640\"></iframe>,\n",
       " <iframe allowfullscreen=\"true\" class=\"youtube-player\" height=\"360\" sandbox=\"allow-scripts allow-same-origin allow-popups allow-presentation\" src=\"https://www.youtube.com/embed/mO_dS3rXDIs?version=3&amp;rel=1&amp;showsearch=0&amp;showinfo=1&amp;iv_load_policy=1&amp;fs=1&amp;hl=en-US&amp;autohide=2&amp;wmode=transparent\" style=\"border:0;\" width=\"640\"></iframe>,\n",
       " <iframe allowfullscreen=\"true\" class=\"youtube-player\" height=\"360\" sandbox=\"allow-scripts allow-same-origin allow-popups allow-presentation\" src=\"https://www.youtube.com/embed/2Fp1N6dof0Y?version=3&amp;rel=1&amp;showsearch=0&amp;showinfo=1&amp;iv_load_policy=1&amp;fs=1&amp;hl=en-US&amp;autohide=2&amp;wmode=transparent\" style=\"border:0;\" width=\"640\"></iframe>,\n",
       " <iframe allowfullscreen=\"true\" class=\"youtube-player\" height=\"360\" sandbox=\"allow-scripts allow-same-origin allow-popups allow-presentation\" src=\"https://www.youtube.com/embed/-nh9rCzPJ20?version=3&amp;rel=1&amp;showsearch=0&amp;showinfo=1&amp;iv_load_policy=1&amp;fs=1&amp;hl=en-US&amp;autohide=2&amp;wmode=transparent\" style=\"border:0;\" width=\"640\"></iframe>,\n",
       " <iframe allowfullscreen=\"true\" class=\"youtube-player\" height=\"360\" sandbox=\"allow-scripts allow-same-origin allow-popups allow-presentation\" src=\"https://www.youtube.com/embed/06I63_p-2A4?version=3&amp;rel=1&amp;showsearch=0&amp;showinfo=1&amp;iv_load_policy=1&amp;fs=1&amp;hl=en-US&amp;autohide=2&amp;wmode=transparent\" style=\"border:0;\" width=\"640\"></iframe>,\n",
       " <iframe allowfullscreen=\"true\" class=\"youtube-player\" height=\"360\" sandbox=\"allow-scripts allow-same-origin allow-popups allow-presentation\" src=\"https://www.youtube.com/embed/_JGmemuINww?version=3&amp;rel=1&amp;showsearch=0&amp;showinfo=1&amp;iv_load_policy=1&amp;fs=1&amp;hl=en-US&amp;autohide=2&amp;wmode=transparent\" style=\"border:0;\" width=\"640\"></iframe>]"
      ]
     },
     "execution_count": 117,
     "metadata": {},
     "output_type": "execute_result"
    }
   ],
   "source": [
    "video_code=[]\n",
    "for i in soup.find_all('iframe',class_=\"youtube-player\"):\n",
    "    video_code.append(i)\n",
    "video_code"
   ]
  },
  {
   "cell_type": "code",
   "execution_count": 118,
   "id": "8e1da2e2",
   "metadata": {},
   "outputs": [
    {
     "data": {
      "text/html": [
       "<div>\n",
       "<style scoped>\n",
       "    .dataframe tbody tr th:only-of-type {\n",
       "        vertical-align: middle;\n",
       "    }\n",
       "\n",
       "    .dataframe tbody tr th {\n",
       "        vertical-align: top;\n",
       "    }\n",
       "\n",
       "    .dataframe thead th {\n",
       "        text-align: right;\n",
       "    }\n",
       "</style>\n",
       "<table border=\"1\" class=\"dataframe\">\n",
       "  <thead>\n",
       "    <tr style=\"text-align: right;\">\n",
       "      <th></th>\n",
       "      <th>HEADING</th>\n",
       "      <th>DATE</th>\n",
       "      <th>CONTENT</th>\n",
       "      <th>CODE FOE VIDEO</th>\n",
       "    </tr>\n",
       "  </thead>\n",
       "  <tbody>\n",
       "    <tr>\n",
       "      <th>0</th>\n",
       "      <td>Python Tutorial: Zip Files – Creating and Extr...</td>\n",
       "      <td>November 19, 2019</td>\n",
       "      <td>In this video, we will be learning how to crea...</td>\n",
       "      <td>[]</td>\n",
       "    </tr>\n",
       "    <tr>\n",
       "      <th>1</th>\n",
       "      <td>Python Data Science Tutorial: Analyzing the 20...</td>\n",
       "      <td>October 17, 2019</td>\n",
       "      <td>In this Python Programming video, we will be l...</td>\n",
       "      <td>[]</td>\n",
       "    </tr>\n",
       "    <tr>\n",
       "      <th>2</th>\n",
       "      <td>Python Multiprocessing Tutorial: Run Code in P...</td>\n",
       "      <td>September 21, 2019</td>\n",
       "      <td>In this Python Programming video, we will be l...</td>\n",
       "      <td>[]</td>\n",
       "    </tr>\n",
       "    <tr>\n",
       "      <th>3</th>\n",
       "      <td>Python Threading Tutorial: Run Code Concurrent...</td>\n",
       "      <td>September 12, 2019</td>\n",
       "      <td>In this Python Programming video, we will be l...</td>\n",
       "      <td>[]</td>\n",
       "    </tr>\n",
       "    <tr>\n",
       "      <th>4</th>\n",
       "      <td>Python Quick Tip: The Difference Between “==” ...</td>\n",
       "      <td>August 6, 2019</td>\n",
       "      <td>In this Python Programming Tutorial, we will b...</td>\n",
       "      <td>[]</td>\n",
       "    </tr>\n",
       "    <tr>\n",
       "      <th>5</th>\n",
       "      <td>Python Tutorial: Calling External Commands Usi...</td>\n",
       "      <td>July 24, 2019</td>\n",
       "      <td>In this Python Programming Tutorial, we will b...</td>\n",
       "      <td>[]</td>\n",
       "    </tr>\n",
       "    <tr>\n",
       "      <th>6</th>\n",
       "      <td>Visual Studio Code (Windows) – Setting up a Py...</td>\n",
       "      <td>May 1, 2019</td>\n",
       "      <td>In this Python Programming Tutorial, we will b...</td>\n",
       "      <td>[]</td>\n",
       "    </tr>\n",
       "    <tr>\n",
       "      <th>7</th>\n",
       "      <td>Visual Studio Code (Mac) – Setting up a Python...</td>\n",
       "      <td>May 1, 2019</td>\n",
       "      <td>In this Python Programming Tutorial, we will b...</td>\n",
       "      <td>[]</td>\n",
       "    </tr>\n",
       "    <tr>\n",
       "      <th>8</th>\n",
       "      <td>Clarifying the Issues with Mutable Default Arg...</td>\n",
       "      <td>April 24, 2019</td>\n",
       "      <td>In this Python Programming Tutorial, we will b...</td>\n",
       "      <td>[]</td>\n",
       "    </tr>\n",
       "  </tbody>\n",
       "</table>\n",
       "</div>"
      ],
      "text/plain": [
       "                                             HEADING                DATE  \\\n",
       "0  Python Tutorial: Zip Files – Creating and Extr...   November 19, 2019   \n",
       "1  Python Data Science Tutorial: Analyzing the 20...    October 17, 2019   \n",
       "2  Python Multiprocessing Tutorial: Run Code in P...  September 21, 2019   \n",
       "3  Python Threading Tutorial: Run Code Concurrent...  September 12, 2019   \n",
       "4  Python Quick Tip: The Difference Between “==” ...      August 6, 2019   \n",
       "5  Python Tutorial: Calling External Commands Usi...       July 24, 2019   \n",
       "6  Visual Studio Code (Windows) – Setting up a Py...         May 1, 2019   \n",
       "7  Visual Studio Code (Mac) – Setting up a Python...         May 1, 2019   \n",
       "8  Clarifying the Issues with Mutable Default Arg...      April 24, 2019   \n",
       "\n",
       "                                             CONTENT CODE FOE VIDEO  \n",
       "0  In this video, we will be learning how to crea...             []  \n",
       "1  In this Python Programming video, we will be l...             []  \n",
       "2  In this Python Programming video, we will be l...             []  \n",
       "3  In this Python Programming video, we will be l...             []  \n",
       "4  In this Python Programming Tutorial, we will b...             []  \n",
       "5  In this Python Programming Tutorial, we will b...             []  \n",
       "6  In this Python Programming Tutorial, we will b...             []  \n",
       "7  In this Python Programming Tutorial, we will b...             []  \n",
       "8  In this Python Programming Tutorial, we will b...             []  "
      ]
     },
     "execution_count": 118,
     "metadata": {},
     "output_type": "execute_result"
    }
   ],
   "source": [
    "import pandas as pd\n",
    "df=pd.DataFrame({'HEADING':heading,'DATE':date,'CONTENT':content,'CODE FOE VIDEO':video_code})\n",
    "df"
   ]
  },
  {
   "cell_type": "markdown",
   "id": "1cda816b",
   "metadata": {},
   "source": [
    "# 8) Write a python program to scrape house details from mentioned URL. It should include house title, location,area, EMI and price from https://www.nobroker.in/ .Enter three localities which are Indira Nagar, Jayanagar, Rajaji Nagar."
   ]
  },
  {
   "cell_type": "code",
   "execution_count": 1,
   "id": "0418dbe6",
   "metadata": {},
   "outputs": [],
   "source": [
    "import requests\n",
    "from bs4 import BeautifulSoup"
   ]
  },
  {
   "cell_type": "code",
   "execution_count": 18,
   "id": "6238fda0",
   "metadata": {},
   "outputs": [
    {
     "data": {
      "text/plain": [
       "<Response [200]>"
      ]
     },
     "execution_count": 18,
     "metadata": {},
     "output_type": "execute_result"
    }
   ],
   "source": [
    "url=\"https://www.nobroker.in/property/sale/bangalore/multiple?searchParam=W3sibGF0IjoxMi45NzgzNjkyLCJsb24iOjc3LjY0MDgzNTYsInBsYWNlSWQiOiJDaElKa1FOM0dLUVdyanNSTmhCUUpyaEdEN1UiLCJwbGFjZU5hbWUiOiJJbmRpcmFuYWdhciJ9LHsibGF0IjoxMi45MzA3NzM1LCJsb24iOjc3LjU4MzgzMDIsInBsYWNlSWQiOiJDaElKMmRkbFo1Z1ZyanNSaDFCT0FhZi1vcnMiLCJwbGFjZU5hbWUiOiJKYXlhbmFnYXIifSx7ImxhdCI6MTIuOTk4MTczMiwibG9uIjo3Ny41NTMwNDQ1OTk5OTk5OSwicGxhY2VJZCI6IkNoSUp4Zlc0RFBNOXJqc1JLc05URy01cF9RUSIsInBsYWNlTmFtZSI6IlJhamFqaW5hZ2FyIn1d&radius=2.0&city=bangalore&locality=Indiranagar,&locality=Jayanagar,&locality=Rajajinagar\"\n",
    "page=requests.get(url)\n",
    "page"
   ]
  },
  {
   "cell_type": "code",
   "execution_count": 19,
   "id": "f9da5797",
   "metadata": {},
   "outputs": [],
   "source": [
    "soup=BeautifulSoup(page.content)"
   ]
  },
  {
   "cell_type": "code",
   "execution_count": 20,
   "id": "e1dd06db",
   "metadata": {},
   "outputs": [
    {
     "data": {
      "text/plain": [
       "['4+ BHK In Independent House  For Sale  In Prakash Nagar, Rajaji Nagar',\n",
       " '4+ BHK In Independent House  For Sale  In Rajaji Nagar',\n",
       " '2 BHK Apartment  For Sale  In Tarang Parkway Apartment In Basaveshwar Nagar',\n",
       " '2 BHK Flat  For Sale  In Kumar Ashraya Apartments In Jayanagar',\n",
       " '3 BHK Apartment  For Sale  In Ashiana Gardens Apartments In Indiranagar',\n",
       " '3 BHK Apartment  For Sale  In Brigade Gateway In Rajaji Nagar',\n",
       " '2 BHK Apartment  For Sale  In Blueberry Apartment In Indiranagar',\n",
       " '3 BHK Apartment  For Sale  In Mayitri Enclave In Jayanagar',\n",
       " '2 BHK Flat  For Sale  In Jains Prakruti, Jayanagar In Jayanagar 7th Block',\n",
       " \"4 BHK In Independent House  For Sale  In Jayanagar 4th 't' Block\",\n",
       " '3 BHK Flat  For Sale  In Benaka Apartments In Indiranagar',\n",
       " '2 BHK Apartment  For Sale  In Jains Prakriti In Jayanagar',\n",
       " '2 BHK Flat  For Sale  In Jayanagar Residency In Jayanagar',\n",
       " '4 BHK Flat  For Sale  In Rrbc Piccassso In Jayanagar',\n",
       " '4 BHK Flat  For Sale  In Phoenix  One Bangalore West In Rajajinagar',\n",
       " '4+ BHK In Independent House  For Sale  In Lakshmipuram Indrinagar',\n",
       " '3 BHK Flat  For Sale  In Rajaji Nagar',\n",
       " '3 BHK Flat  For Sale  In  Sgrr Pallavi Pristine In Jayanagar',\n",
       " '3 BHK Flat  For Sale  In Hal 2nd Stage,indiranagar  ',\n",
       " '4 BHK Flat  For Sale  In Golfridge In Indira Nagar',\n",
       " '4+ BHK In Independent House  For Sale  In Rajajinagar',\n",
       " '4 BHK In Independent House  For Sale  In Jayanagar',\n",
       " '2 BHK Flat  For Sale  In Aishwaryam Gokula In Govindraja Nagar',\n",
       " '3 BHK Apartment  For Sale  In Admiralty Manor, Indiranagar In Indiranagar',\n",
       " '2 BHK Flat  For Sale  In Aishwaryam Ranga In Gayatrinagar, Rajaji Nagar']"
      ]
     },
     "execution_count": 20,
     "metadata": {},
     "output_type": "execute_result"
    }
   ],
   "source": [
    "house_title=[]\n",
    "for i in soup.find_all(\"span\",class_=\"overflow-hidden overflow-ellipsis whitespace-nowrap max-w-80pe po:max-w-full\"):\n",
    "    house_title.append(i.text)\n",
    "house_title"
   ]
  },
  {
   "cell_type": "code",
   "execution_count": 17,
   "id": "a604acd6",
   "metadata": {},
   "outputs": [
    {
     "data": {
      "text/plain": [
       "['Independent House, 6th C cross 3rd main rd near Ayyappa Temple',\n",
       " 'Independent House,  6th Cross road,9th main road  Prakash Nagar, Near Metro Station,  BBMP YOGA CENTRE',\n",
       " 'Tarang Parkway Apartment\\xa0 2nd Main Rd, Shivanagar, Basaveshwar Nagar, Bengaluru, Karnataka 560010, India',\n",
       " ' Kumar Ashraya Apartments 194, 9th Cross Rd 2nd Block, Jayanagar Bengaluru, Karnataka 560011 India',\n",
       " 'Ashiana Gardens Apartments\\xa0 4, Sri Rama Temple Rd, Channakesahava Nagar, HAL 2nd Stage, Doopanahalli, Indiranagar, Bengaluru, Karnataka 560008, India',\n",
       " 'Brigade Gateway\\xa0 Dr Rajkumar Road, Rajaji Nagar, Bengaluru, Karnataka 560055, India',\n",
       " 'Blueberry Apartment\\xa0 13th E Main Rd, Channakesahava Nagar, HAL 2nd Stage, Doopanahalli, Indiranagar, Bengaluru, Karnataka 560008, India',\n",
       " 'Mayitri Enclave\\xa0 Mayitri Enclave, 39th C, 5T Block, 4th T Block East, Jayanagar, Bengaluru, Karnataka 5600041, India',\n",
       " 'Kanakapura Road, Jayanagar, Bangalore, Karnataka, INDIA.',\n",
       " 'Independent House, SBI Branch Jayanagar 9th blk, Bunny Bakers',\n",
       " '871, 5th Cross Rd, Indira Nagar 1st Stage, Stage 1, Indiranagar, Bengaluru, Karnataka 560038, India',\n",
       " 'Jains Prakriti\\xa0  Kanakapura Rd, 7th Block West, 7th Block, Jayanagar, Bengaluru, Karnataka 560070, India',\n",
       " 'Jayanagar Residency, K V Layout, LIC Colony, Jayanagar 3rd Block East, Jayanagar, Bengaluru, Karnataka 560011, India',\n",
       " 'Municipal No.152, 18th main road, beside Sai Baba Temple, Jayanagara 9th Block, Jayanagar, Bengaluru, Karnataka 560056, India',\n",
       " 'Dr Rajkumar Rd, opposite Sheraton Hotel, Rajajinagar',\n",
       " 'Independent House, CMH Rd , Near B P Bakery',\n",
       " 'Independent House, 242, 27th cross, 2nd Block, Rajajinagar, Bangalore-560010',\n",
       " '11th Main Road,36 Cross, 4th T Block, Near ,Post office, Jayanagar HPO',\n",
       " 'Standalone building, 16th F main, Hal 2nd stage indrananagr blore ',\n",
       " 'embassy golf link road',\n",
       " 'Independent House, 6th Cross Rd, 2nd Block  near  SMC Enclave ',\n",
       " 'Independent House, 47th Cross Rd, 8th Block, 1st Phase, Near Maha Lakshmi Temple and Sir M Vishweshwaraiah Cooperative Bank Limited',\n",
       " '1st main govindraja naagar blore 560040',\n",
       " 'Admiralty Manor, Indiranagar\\xa0 Admiralty Manor, 6th Main Rd, Eshwara Layout, Indiranagar, Bengaluru, Karnataka 560008, India',\n",
       " 'Near gayatrinagarpostoffice']"
      ]
     },
     "execution_count": 17,
     "metadata": {},
     "output_type": "execute_result"
    }
   ],
   "source": [
    "location=[]\n",
    "for i in soup.find_all(\"div\",class_=\"mt-0.5p overflow-hidden overflow-ellipsis whitespace-nowrap max-w-70 text-gray-light leading-4 po:mb-0 po:max-w-95\"):\n",
    "    location.append(i.text)\n",
    "location"
   ]
  },
  {
   "cell_type": "code",
   "execution_count": 26,
   "id": "a34d2874",
   "metadata": {},
   "outputs": [
    {
     "data": {
      "text/plain": [
       "['2,200 sqft',\n",
       " '₹77,374/Month',\n",
       " '₹1.35 Crores',\n",
       " '1,320 sqft',\n",
       " '₹63,045/Month',\n",
       " '₹1.1 Crores',\n",
       " '1,200 sqft',\n",
       " '₹57,314/Month',\n",
       " '₹1 Crore',\n",
       " '900 sqft',\n",
       " '₹37,827/Month',\n",
       " '₹66 Lacs',\n",
       " '1,780 sqft',\n",
       " '₹80,240/Month',\n",
       " '₹1.4 Crores',\n",
       " '1,640 sqft',\n",
       " '₹1.5 Lacs/Month',\n",
       " '₹2.62 Crores',\n",
       " '1,074 sqft',\n",
       " '₹87,691/Month',\n",
       " '₹1.53 Crores',\n",
       " '1,450 sqft',\n",
       " '₹44,705/Month',\n",
       " '₹78 Lacs',\n",
       " '1,301 sqft',\n",
       " '₹85,971/Month',\n",
       " '₹1.5 Crores',\n",
       " '2,600 sqft',\n",
       " '₹1.55 Lacs/Month',\n",
       " '₹2.7 Crores',\n",
       " '1,331 sqft',\n",
       " '₹48,717/Month',\n",
       " '₹85 Lacs',\n",
       " '1,298 sqft',\n",
       " '₹1.15 Lacs/Month',\n",
       " '₹2 Crores',\n",
       " '1,200 sqft',\n",
       " '₹57,314/Month',\n",
       " '₹1 Crore',\n",
       " '4,859 sqft',\n",
       " '₹3.91 Lacs/Month',\n",
       " '₹6.83 Crores',\n",
       " '2,901 sqft',\n",
       " '₹2.72 Lacs/Month',\n",
       " '₹4.75 Crores',\n",
       " '2,250 sqft',\n",
       " '₹63,045/Month',\n",
       " '₹1.1 Crores',\n",
       " '1,275 sqft',\n",
       " '₹77,374/Month',\n",
       " '₹1.35 Crores',\n",
       " '1,340 sqft',\n",
       " '₹74,508/Month',\n",
       " '₹1.3 Crores',\n",
       " '2,200 sqft',\n",
       " '₹2.12 Lacs/Month',\n",
       " '₹3.7 Crores',\n",
       " '2,750 sqft',\n",
       " '₹1.63 Lacs/Month',\n",
       " '₹2.85 Crores',\n",
       " '2,240 sqft',\n",
       " '₹83,679/Month',\n",
       " '₹1.46 Crores',\n",
       " '3,700 sqft',\n",
       " '₹5.44 Lacs/Month',\n",
       " '₹9.5 Crores',\n",
       " '1,209 sqft',\n",
       " '₹44,705/Month',\n",
       " '₹78 Lacs',\n",
       " '1,960 sqft',\n",
       " '₹91,703/Month',\n",
       " '₹1.6 Crores',\n",
       " '1,150 sqft',\n",
       " '₹51,583/Month',\n",
       " '₹90 Lacs']"
      ]
     },
     "execution_count": 26,
     "metadata": {},
     "output_type": "execute_result"
    }
   ],
   "source": [
    "x=[]\n",
    "for i in soup.find_all(\"div\",class_=\"font-semi-bold heading-6\"):\n",
    "    x.append(i.text)\n",
    "x"
   ]
  },
  {
   "cell_type": "code",
   "execution_count": 31,
   "id": "8df3b59b",
   "metadata": {},
   "outputs": [
    {
     "data": {
      "text/plain": [
       "['2,200 sqft',\n",
       " '1,320 sqft',\n",
       " '1,200 sqft',\n",
       " '900 sqft',\n",
       " '1,780 sqft',\n",
       " '1,640 sqft',\n",
       " '1,074 sqft',\n",
       " '1,450 sqft',\n",
       " '1,301 sqft',\n",
       " '2,600 sqft',\n",
       " '1,331 sqft',\n",
       " '1,298 sqft',\n",
       " '1,200 sqft',\n",
       " '4,859 sqft',\n",
       " '2,901 sqft',\n",
       " '2,250 sqft',\n",
       " '1,275 sqft',\n",
       " '1,340 sqft',\n",
       " '2,200 sqft',\n",
       " '2,750 sqft',\n",
       " '2,240 sqft',\n",
       " '3,700 sqft',\n",
       " '1,209 sqft',\n",
       " '1,960 sqft',\n",
       " '1,150 sqft']"
      ]
     },
     "execution_count": 31,
     "metadata": {},
     "output_type": "execute_result"
    }
   ],
   "source": [
    "area=[]\n",
    "i=0\n",
    "while(i<75):\n",
    "    area.append(x[i])\n",
    "    i=i+3\n",
    "area"
   ]
  },
  {
   "cell_type": "code",
   "execution_count": 33,
   "id": "0571942d",
   "metadata": {},
   "outputs": [
    {
     "data": {
      "text/plain": [
       "['₹77,374/Month',\n",
       " '₹63,045/Month',\n",
       " '₹57,314/Month',\n",
       " '₹37,827/Month',\n",
       " '₹80,240/Month',\n",
       " '₹1.5 Lacs/Month',\n",
       " '₹87,691/Month',\n",
       " '₹44,705/Month',\n",
       " '₹85,971/Month',\n",
       " '₹1.55 Lacs/Month',\n",
       " '₹48,717/Month',\n",
       " '₹1.15 Lacs/Month',\n",
       " '₹57,314/Month',\n",
       " '₹3.91 Lacs/Month',\n",
       " '₹2.72 Lacs/Month',\n",
       " '₹63,045/Month',\n",
       " '₹77,374/Month',\n",
       " '₹74,508/Month',\n",
       " '₹2.12 Lacs/Month',\n",
       " '₹1.63 Lacs/Month',\n",
       " '₹83,679/Month',\n",
       " '₹5.44 Lacs/Month',\n",
       " '₹44,705/Month',\n",
       " '₹91,703/Month',\n",
       " '₹51,583/Month']"
      ]
     },
     "execution_count": 33,
     "metadata": {},
     "output_type": "execute_result"
    }
   ],
   "source": [
    "emi=[]\n",
    "i =1\n",
    "while(i<75):\n",
    "    emi.append(x[i])\n",
    "    i=i+3\n",
    "emi"
   ]
  },
  {
   "cell_type": "code",
   "execution_count": 34,
   "id": "338d7063",
   "metadata": {},
   "outputs": [
    {
     "data": {
      "text/plain": [
       "['₹1.35 Crores',\n",
       " '₹1.1 Crores',\n",
       " '₹1 Crore',\n",
       " '₹66 Lacs',\n",
       " '₹1.4 Crores',\n",
       " '₹2.62 Crores',\n",
       " '₹1.53 Crores',\n",
       " '₹78 Lacs',\n",
       " '₹1.5 Crores',\n",
       " '₹2.7 Crores',\n",
       " '₹85 Lacs',\n",
       " '₹2 Crores',\n",
       " '₹1 Crore',\n",
       " '₹6.83 Crores',\n",
       " '₹4.75 Crores',\n",
       " '₹1.1 Crores',\n",
       " '₹1.35 Crores',\n",
       " '₹1.3 Crores',\n",
       " '₹3.7 Crores',\n",
       " '₹2.85 Crores',\n",
       " '₹1.46 Crores',\n",
       " '₹9.5 Crores',\n",
       " '₹78 Lacs',\n",
       " '₹1.6 Crores',\n",
       " '₹90 Lacs']"
      ]
     },
     "execution_count": 34,
     "metadata": {},
     "output_type": "execute_result"
    }
   ],
   "source": [
    "price=[]\n",
    "i=2\n",
    "while(i<75):\n",
    "    price.append(x[i])\n",
    "    i=i+3\n",
    "price"
   ]
  },
  {
   "cell_type": "code",
   "execution_count": 35,
   "id": "ced0710f",
   "metadata": {},
   "outputs": [],
   "source": [
    "import pandas as pd\n",
    "df=pd.DataFrame({\"HOUSE TITLE\":house_title,\"LOCATION\":location,\"AREA\":area,\"EMI\":emi,\"PRICE\":price})"
   ]
  },
  {
   "cell_type": "code",
   "execution_count": 36,
   "id": "a952a1a4",
   "metadata": {},
   "outputs": [
    {
     "data": {
      "text/html": [
       "<div>\n",
       "<style scoped>\n",
       "    .dataframe tbody tr th:only-of-type {\n",
       "        vertical-align: middle;\n",
       "    }\n",
       "\n",
       "    .dataframe tbody tr th {\n",
       "        vertical-align: top;\n",
       "    }\n",
       "\n",
       "    .dataframe thead th {\n",
       "        text-align: right;\n",
       "    }\n",
       "</style>\n",
       "<table border=\"1\" class=\"dataframe\">\n",
       "  <thead>\n",
       "    <tr style=\"text-align: right;\">\n",
       "      <th></th>\n",
       "      <th>HOUSE TITLE</th>\n",
       "      <th>LOCATION</th>\n",
       "      <th>AREA</th>\n",
       "      <th>EMI</th>\n",
       "      <th>PRICE</th>\n",
       "    </tr>\n",
       "  </thead>\n",
       "  <tbody>\n",
       "    <tr>\n",
       "      <th>0</th>\n",
       "      <td>4+ BHK In Independent House  For Sale  In Prak...</td>\n",
       "      <td>Independent House, 6th C cross 3rd main rd nea...</td>\n",
       "      <td>2,200 sqft</td>\n",
       "      <td>₹77,374/Month</td>\n",
       "      <td>₹1.35 Crores</td>\n",
       "    </tr>\n",
       "    <tr>\n",
       "      <th>1</th>\n",
       "      <td>4+ BHK In Independent House  For Sale  In Raja...</td>\n",
       "      <td>Independent House,  6th Cross road,9th main ro...</td>\n",
       "      <td>1,320 sqft</td>\n",
       "      <td>₹63,045/Month</td>\n",
       "      <td>₹1.1 Crores</td>\n",
       "    </tr>\n",
       "    <tr>\n",
       "      <th>2</th>\n",
       "      <td>2 BHK Apartment  For Sale  In Tarang Parkway A...</td>\n",
       "      <td>Tarang Parkway Apartment  2nd Main Rd, Shivana...</td>\n",
       "      <td>1,200 sqft</td>\n",
       "      <td>₹57,314/Month</td>\n",
       "      <td>₹1 Crore</td>\n",
       "    </tr>\n",
       "    <tr>\n",
       "      <th>3</th>\n",
       "      <td>2 BHK Flat  For Sale  In Kumar Ashraya Apartme...</td>\n",
       "      <td>Kumar Ashraya Apartments 194, 9th Cross Rd 2n...</td>\n",
       "      <td>900 sqft</td>\n",
       "      <td>₹37,827/Month</td>\n",
       "      <td>₹66 Lacs</td>\n",
       "    </tr>\n",
       "    <tr>\n",
       "      <th>4</th>\n",
       "      <td>3 BHK Apartment  For Sale  In Ashiana Gardens ...</td>\n",
       "      <td>Ashiana Gardens Apartments  4, Sri Rama Temple...</td>\n",
       "      <td>1,780 sqft</td>\n",
       "      <td>₹80,240/Month</td>\n",
       "      <td>₹1.4 Crores</td>\n",
       "    </tr>\n",
       "    <tr>\n",
       "      <th>5</th>\n",
       "      <td>3 BHK Apartment  For Sale  In Brigade Gateway ...</td>\n",
       "      <td>Brigade Gateway  Dr Rajkumar Road, Rajaji Naga...</td>\n",
       "      <td>1,640 sqft</td>\n",
       "      <td>₹1.5 Lacs/Month</td>\n",
       "      <td>₹2.62 Crores</td>\n",
       "    </tr>\n",
       "    <tr>\n",
       "      <th>6</th>\n",
       "      <td>2 BHK Apartment  For Sale  In Blueberry Apartm...</td>\n",
       "      <td>Blueberry Apartment  13th E Main Rd, Channakes...</td>\n",
       "      <td>1,074 sqft</td>\n",
       "      <td>₹87,691/Month</td>\n",
       "      <td>₹1.53 Crores</td>\n",
       "    </tr>\n",
       "    <tr>\n",
       "      <th>7</th>\n",
       "      <td>3 BHK Apartment  For Sale  In Mayitri Enclave ...</td>\n",
       "      <td>Mayitri Enclave  Mayitri Enclave, 39th C, 5T B...</td>\n",
       "      <td>1,450 sqft</td>\n",
       "      <td>₹44,705/Month</td>\n",
       "      <td>₹78 Lacs</td>\n",
       "    </tr>\n",
       "    <tr>\n",
       "      <th>8</th>\n",
       "      <td>2 BHK Flat  For Sale  In Jains Prakruti, Jayan...</td>\n",
       "      <td>Kanakapura Road, Jayanagar, Bangalore, Karnata...</td>\n",
       "      <td>1,301 sqft</td>\n",
       "      <td>₹85,971/Month</td>\n",
       "      <td>₹1.5 Crores</td>\n",
       "    </tr>\n",
       "    <tr>\n",
       "      <th>9</th>\n",
       "      <td>4 BHK In Independent House  For Sale  In Jayan...</td>\n",
       "      <td>Independent House, SBI Branch Jayanagar 9th bl...</td>\n",
       "      <td>2,600 sqft</td>\n",
       "      <td>₹1.55 Lacs/Month</td>\n",
       "      <td>₹2.7 Crores</td>\n",
       "    </tr>\n",
       "    <tr>\n",
       "      <th>10</th>\n",
       "      <td>3 BHK Flat  For Sale  In Benaka Apartments In ...</td>\n",
       "      <td>871, 5th Cross Rd, Indira Nagar 1st Stage, Sta...</td>\n",
       "      <td>1,331 sqft</td>\n",
       "      <td>₹48,717/Month</td>\n",
       "      <td>₹85 Lacs</td>\n",
       "    </tr>\n",
       "    <tr>\n",
       "      <th>11</th>\n",
       "      <td>2 BHK Apartment  For Sale  In Jains Prakriti I...</td>\n",
       "      <td>Jains Prakriti   Kanakapura Rd, 7th Block West...</td>\n",
       "      <td>1,298 sqft</td>\n",
       "      <td>₹1.15 Lacs/Month</td>\n",
       "      <td>₹2 Crores</td>\n",
       "    </tr>\n",
       "    <tr>\n",
       "      <th>12</th>\n",
       "      <td>2 BHK Flat  For Sale  In Jayanagar Residency I...</td>\n",
       "      <td>Jayanagar Residency, K V Layout, LIC Colony, J...</td>\n",
       "      <td>1,200 sqft</td>\n",
       "      <td>₹57,314/Month</td>\n",
       "      <td>₹1 Crore</td>\n",
       "    </tr>\n",
       "    <tr>\n",
       "      <th>13</th>\n",
       "      <td>4 BHK Flat  For Sale  In Rrbc Piccassso In Jay...</td>\n",
       "      <td>Municipal No.152, 18th main road, beside Sai B...</td>\n",
       "      <td>4,859 sqft</td>\n",
       "      <td>₹3.91 Lacs/Month</td>\n",
       "      <td>₹6.83 Crores</td>\n",
       "    </tr>\n",
       "    <tr>\n",
       "      <th>14</th>\n",
       "      <td>4 BHK Flat  For Sale  In Phoenix  One Bangalor...</td>\n",
       "      <td>Dr Rajkumar Rd, opposite Sheraton Hotel, Rajaj...</td>\n",
       "      <td>2,901 sqft</td>\n",
       "      <td>₹2.72 Lacs/Month</td>\n",
       "      <td>₹4.75 Crores</td>\n",
       "    </tr>\n",
       "    <tr>\n",
       "      <th>15</th>\n",
       "      <td>4+ BHK In Independent House  For Sale  In Laks...</td>\n",
       "      <td>Independent House, CMH Rd , Near B P Bakery</td>\n",
       "      <td>2,250 sqft</td>\n",
       "      <td>₹63,045/Month</td>\n",
       "      <td>₹1.1 Crores</td>\n",
       "    </tr>\n",
       "    <tr>\n",
       "      <th>16</th>\n",
       "      <td>3 BHK Flat  For Sale  In Rajaji Nagar</td>\n",
       "      <td>Independent House, 242, 27th cross, 2nd Block,...</td>\n",
       "      <td>1,275 sqft</td>\n",
       "      <td>₹77,374/Month</td>\n",
       "      <td>₹1.35 Crores</td>\n",
       "    </tr>\n",
       "    <tr>\n",
       "      <th>17</th>\n",
       "      <td>3 BHK Flat  For Sale  In  Sgrr Pallavi Pristin...</td>\n",
       "      <td>11th Main Road,36 Cross, 4th T Block, Near ,Po...</td>\n",
       "      <td>1,340 sqft</td>\n",
       "      <td>₹74,508/Month</td>\n",
       "      <td>₹1.3 Crores</td>\n",
       "    </tr>\n",
       "    <tr>\n",
       "      <th>18</th>\n",
       "      <td>3 BHK Flat  For Sale  In Hal 2nd Stage,indiran...</td>\n",
       "      <td>Standalone building, 16th F main, Hal 2nd stag...</td>\n",
       "      <td>2,200 sqft</td>\n",
       "      <td>₹2.12 Lacs/Month</td>\n",
       "      <td>₹3.7 Crores</td>\n",
       "    </tr>\n",
       "    <tr>\n",
       "      <th>19</th>\n",
       "      <td>4 BHK Flat  For Sale  In Golfridge In Indira N...</td>\n",
       "      <td>embassy golf link road</td>\n",
       "      <td>2,750 sqft</td>\n",
       "      <td>₹1.63 Lacs/Month</td>\n",
       "      <td>₹2.85 Crores</td>\n",
       "    </tr>\n",
       "    <tr>\n",
       "      <th>20</th>\n",
       "      <td>4+ BHK In Independent House  For Sale  In Raja...</td>\n",
       "      <td>Independent House, 6th Cross Rd, 2nd Block  ne...</td>\n",
       "      <td>2,240 sqft</td>\n",
       "      <td>₹83,679/Month</td>\n",
       "      <td>₹1.46 Crores</td>\n",
       "    </tr>\n",
       "    <tr>\n",
       "      <th>21</th>\n",
       "      <td>4 BHK In Independent House  For Sale  In Jayan...</td>\n",
       "      <td>Independent House, 47th Cross Rd, 8th Block, 1...</td>\n",
       "      <td>3,700 sqft</td>\n",
       "      <td>₹5.44 Lacs/Month</td>\n",
       "      <td>₹9.5 Crores</td>\n",
       "    </tr>\n",
       "    <tr>\n",
       "      <th>22</th>\n",
       "      <td>2 BHK Flat  For Sale  In Aishwaryam Gokula In ...</td>\n",
       "      <td>1st main govindraja naagar blore 560040</td>\n",
       "      <td>1,209 sqft</td>\n",
       "      <td>₹44,705/Month</td>\n",
       "      <td>₹78 Lacs</td>\n",
       "    </tr>\n",
       "    <tr>\n",
       "      <th>23</th>\n",
       "      <td>3 BHK Apartment  For Sale  In Admiralty Manor,...</td>\n",
       "      <td>Admiralty Manor, Indiranagar  Admiralty Manor,...</td>\n",
       "      <td>1,960 sqft</td>\n",
       "      <td>₹91,703/Month</td>\n",
       "      <td>₹1.6 Crores</td>\n",
       "    </tr>\n",
       "    <tr>\n",
       "      <th>24</th>\n",
       "      <td>2 BHK Flat  For Sale  In Aishwaryam Ranga In G...</td>\n",
       "      <td>Near gayatrinagarpostoffice</td>\n",
       "      <td>1,150 sqft</td>\n",
       "      <td>₹51,583/Month</td>\n",
       "      <td>₹90 Lacs</td>\n",
       "    </tr>\n",
       "  </tbody>\n",
       "</table>\n",
       "</div>"
      ],
      "text/plain": [
       "                                          HOUSE TITLE  \\\n",
       "0   4+ BHK In Independent House  For Sale  In Prak...   \n",
       "1   4+ BHK In Independent House  For Sale  In Raja...   \n",
       "2   2 BHK Apartment  For Sale  In Tarang Parkway A...   \n",
       "3   2 BHK Flat  For Sale  In Kumar Ashraya Apartme...   \n",
       "4   3 BHK Apartment  For Sale  In Ashiana Gardens ...   \n",
       "5   3 BHK Apartment  For Sale  In Brigade Gateway ...   \n",
       "6   2 BHK Apartment  For Sale  In Blueberry Apartm...   \n",
       "7   3 BHK Apartment  For Sale  In Mayitri Enclave ...   \n",
       "8   2 BHK Flat  For Sale  In Jains Prakruti, Jayan...   \n",
       "9   4 BHK In Independent House  For Sale  In Jayan...   \n",
       "10  3 BHK Flat  For Sale  In Benaka Apartments In ...   \n",
       "11  2 BHK Apartment  For Sale  In Jains Prakriti I...   \n",
       "12  2 BHK Flat  For Sale  In Jayanagar Residency I...   \n",
       "13  4 BHK Flat  For Sale  In Rrbc Piccassso In Jay...   \n",
       "14  4 BHK Flat  For Sale  In Phoenix  One Bangalor...   \n",
       "15  4+ BHK In Independent House  For Sale  In Laks...   \n",
       "16              3 BHK Flat  For Sale  In Rajaji Nagar   \n",
       "17  3 BHK Flat  For Sale  In  Sgrr Pallavi Pristin...   \n",
       "18  3 BHK Flat  For Sale  In Hal 2nd Stage,indiran...   \n",
       "19  4 BHK Flat  For Sale  In Golfridge In Indira N...   \n",
       "20  4+ BHK In Independent House  For Sale  In Raja...   \n",
       "21  4 BHK In Independent House  For Sale  In Jayan...   \n",
       "22  2 BHK Flat  For Sale  In Aishwaryam Gokula In ...   \n",
       "23  3 BHK Apartment  For Sale  In Admiralty Manor,...   \n",
       "24  2 BHK Flat  For Sale  In Aishwaryam Ranga In G...   \n",
       "\n",
       "                                             LOCATION        AREA  \\\n",
       "0   Independent House, 6th C cross 3rd main rd nea...  2,200 sqft   \n",
       "1   Independent House,  6th Cross road,9th main ro...  1,320 sqft   \n",
       "2   Tarang Parkway Apartment  2nd Main Rd, Shivana...  1,200 sqft   \n",
       "3    Kumar Ashraya Apartments 194, 9th Cross Rd 2n...    900 sqft   \n",
       "4   Ashiana Gardens Apartments  4, Sri Rama Temple...  1,780 sqft   \n",
       "5   Brigade Gateway  Dr Rajkumar Road, Rajaji Naga...  1,640 sqft   \n",
       "6   Blueberry Apartment  13th E Main Rd, Channakes...  1,074 sqft   \n",
       "7   Mayitri Enclave  Mayitri Enclave, 39th C, 5T B...  1,450 sqft   \n",
       "8   Kanakapura Road, Jayanagar, Bangalore, Karnata...  1,301 sqft   \n",
       "9   Independent House, SBI Branch Jayanagar 9th bl...  2,600 sqft   \n",
       "10  871, 5th Cross Rd, Indira Nagar 1st Stage, Sta...  1,331 sqft   \n",
       "11  Jains Prakriti   Kanakapura Rd, 7th Block West...  1,298 sqft   \n",
       "12  Jayanagar Residency, K V Layout, LIC Colony, J...  1,200 sqft   \n",
       "13  Municipal No.152, 18th main road, beside Sai B...  4,859 sqft   \n",
       "14  Dr Rajkumar Rd, opposite Sheraton Hotel, Rajaj...  2,901 sqft   \n",
       "15        Independent House, CMH Rd , Near B P Bakery  2,250 sqft   \n",
       "16  Independent House, 242, 27th cross, 2nd Block,...  1,275 sqft   \n",
       "17  11th Main Road,36 Cross, 4th T Block, Near ,Po...  1,340 sqft   \n",
       "18  Standalone building, 16th F main, Hal 2nd stag...  2,200 sqft   \n",
       "19                             embassy golf link road  2,750 sqft   \n",
       "20  Independent House, 6th Cross Rd, 2nd Block  ne...  2,240 sqft   \n",
       "21  Independent House, 47th Cross Rd, 8th Block, 1...  3,700 sqft   \n",
       "22            1st main govindraja naagar blore 560040  1,209 sqft   \n",
       "23  Admiralty Manor, Indiranagar  Admiralty Manor,...  1,960 sqft   \n",
       "24                        Near gayatrinagarpostoffice  1,150 sqft   \n",
       "\n",
       "                 EMI         PRICE  \n",
       "0      ₹77,374/Month  ₹1.35 Crores  \n",
       "1      ₹63,045/Month   ₹1.1 Crores  \n",
       "2      ₹57,314/Month      ₹1 Crore  \n",
       "3      ₹37,827/Month      ₹66 Lacs  \n",
       "4      ₹80,240/Month   ₹1.4 Crores  \n",
       "5    ₹1.5 Lacs/Month  ₹2.62 Crores  \n",
       "6      ₹87,691/Month  ₹1.53 Crores  \n",
       "7      ₹44,705/Month      ₹78 Lacs  \n",
       "8      ₹85,971/Month   ₹1.5 Crores  \n",
       "9   ₹1.55 Lacs/Month   ₹2.7 Crores  \n",
       "10     ₹48,717/Month      ₹85 Lacs  \n",
       "11  ₹1.15 Lacs/Month     ₹2 Crores  \n",
       "12     ₹57,314/Month      ₹1 Crore  \n",
       "13  ₹3.91 Lacs/Month  ₹6.83 Crores  \n",
       "14  ₹2.72 Lacs/Month  ₹4.75 Crores  \n",
       "15     ₹63,045/Month   ₹1.1 Crores  \n",
       "16     ₹77,374/Month  ₹1.35 Crores  \n",
       "17     ₹74,508/Month   ₹1.3 Crores  \n",
       "18  ₹2.12 Lacs/Month   ₹3.7 Crores  \n",
       "19  ₹1.63 Lacs/Month  ₹2.85 Crores  \n",
       "20     ₹83,679/Month  ₹1.46 Crores  \n",
       "21  ₹5.44 Lacs/Month   ₹9.5 Crores  \n",
       "22     ₹44,705/Month      ₹78 Lacs  \n",
       "23     ₹91,703/Month   ₹1.6 Crores  \n",
       "24     ₹51,583/Month      ₹90 Lacs  "
      ]
     },
     "execution_count": 36,
     "metadata": {},
     "output_type": "execute_result"
    }
   ],
   "source": [
    "df"
   ]
  },
  {
   "cell_type": "markdown",
   "id": "f1430f10",
   "metadata": {},
   "source": [
    "# 9) Write a python program to scrape mentioned details from dineout.co.in :\n",
    "i) Restaurant name\n",
    "ii) Cuisine\n",
    "iii) Location\n",
    "iv) Ratings\n",
    "v) Image URL"
   ]
  },
  {
   "cell_type": "code",
   "execution_count": 119,
   "id": "18813d1f",
   "metadata": {},
   "outputs": [],
   "source": [
    "import requests\n",
    "from bs4 import BeautifulSoup"
   ]
  },
  {
   "cell_type": "code",
   "execution_count": 120,
   "id": "41428685",
   "metadata": {},
   "outputs": [
    {
     "data": {
      "text/plain": [
       "<Response [200]>"
      ]
     },
     "execution_count": 120,
     "metadata": {},
     "output_type": "execute_result"
    }
   ],
   "source": [
    "url='https://www.dineout.co.in/delhi-restaurants/buffet-special'\n",
    "page=requests.get(url)\n",
    "page"
   ]
  },
  {
   "cell_type": "code",
   "execution_count": 121,
   "id": "3f1d8b00",
   "metadata": {},
   "outputs": [],
   "source": [
    "soup=BeautifulSoup(page.content)"
   ]
  },
  {
   "cell_type": "code",
   "execution_count": 122,
   "id": "2bfd7c6e",
   "metadata": {},
   "outputs": [],
   "source": [
    "# Scraping Resturent Name"
   ]
  },
  {
   "cell_type": "code",
   "execution_count": 123,
   "id": "a1f7962d",
   "metadata": {},
   "outputs": [
    {
     "data": {
      "text/plain": [
       "['Castle BarbequeConnaught Place, Central Delhi',\n",
       " 'Jungle Jamboree3CS Mall,Lajpat Nagar - 3, South Delhi',\n",
       " 'Castle BarbequePacific Mall,Tagore Garden, West Delhi',\n",
       " 'Cafe KnoshThe Leela Ambience Convention Hotel,Shahdara, East Delhi',\n",
       " 'The Barbeque CompanyGardens Galleria,Sector 38A, Noida',\n",
       " 'India GrillHilton Garden Inn,Saket, South Delhi',\n",
       " 'Delhi BarbequeTaurus Sarovar Portico,Mahipalpur, South Delhi',\n",
       " 'The Monarch - Bar Be Que VillageIndirapuram Habitat Centre,Indirapuram, Ghaziabad',\n",
       " 'World CafeVibe by The Lalit Traveller,Sector 35, Faridabad',\n",
       " 'Indian Grill RoomSuncity Business Tower,Golf Course Road, Gurgaon',\n",
       " 'Mad 4 Bar B QueSector 29, Faridabad',\n",
       " 'Barbeque 29NIT, Faridabad',\n",
       " 'GlasshouseDoubleTree By Hilton Gurugram Baani Square,Sector 50, Gurgaon']"
      ]
     },
     "execution_count": 123,
     "metadata": {},
     "output_type": "execute_result"
    }
   ],
   "source": [
    "Resturent_name=[]\n",
    "for i in soup.find_all('div',class_=\"restnt-info cursor\"):\n",
    "    Resturent_name.append(i.text)\n",
    "Resturent_name"
   ]
  },
  {
   "cell_type": "code",
   "execution_count": 124,
   "id": "ea999d85",
   "metadata": {},
   "outputs": [],
   "source": [
    "#Scraping Location"
   ]
  },
  {
   "cell_type": "code",
   "execution_count": 125,
   "id": "76d5ed2b",
   "metadata": {},
   "outputs": [
    {
     "data": {
      "text/plain": [
       "['Connaught Place, Central Delhi',\n",
       " '3CS Mall,Lajpat Nagar - 3, South Delhi',\n",
       " 'Pacific Mall,Tagore Garden, West Delhi',\n",
       " 'The Leela Ambience Convention Hotel,Shahdara, East Delhi',\n",
       " 'Gardens Galleria,Sector 38A, Noida',\n",
       " 'Hilton Garden Inn,Saket, South Delhi',\n",
       " 'Taurus Sarovar Portico,Mahipalpur, South Delhi',\n",
       " 'Indirapuram Habitat Centre,Indirapuram, Ghaziabad',\n",
       " 'Vibe by The Lalit Traveller,Sector 35, Faridabad',\n",
       " 'Suncity Business Tower,Golf Course Road, Gurgaon',\n",
       " 'Sector 29, Faridabad',\n",
       " 'NIT, Faridabad',\n",
       " 'DoubleTree By Hilton Gurugram Baani Square,Sector 50, Gurgaon']"
      ]
     },
     "execution_count": 125,
     "metadata": {},
     "output_type": "execute_result"
    }
   ],
   "source": [
    "Location=[]\n",
    "for i in soup.find_all('div',class_=\"restnt-loc ellipsis\"):\n",
    "    Location.append(i.text)\n",
    "Location"
   ]
  },
  {
   "cell_type": "code",
   "execution_count": 126,
   "id": "5f662d07",
   "metadata": {},
   "outputs": [],
   "source": [
    "#Scraping Rating"
   ]
  },
  {
   "cell_type": "code",
   "execution_count": 127,
   "id": "15949eff",
   "metadata": {},
   "outputs": [
    {
     "data": {
      "text/plain": [
       "['3.5',\n",
       " '3.9',\n",
       " '3.9',\n",
       " '4.3',\n",
       " '4',\n",
       " '3.9',\n",
       " '3.7',\n",
       " '3.9',\n",
       " '4.2',\n",
       " '4.3',\n",
       " '3.6',\n",
       " '4.2',\n",
       " '4']"
      ]
     },
     "execution_count": 127,
     "metadata": {},
     "output_type": "execute_result"
    }
   ],
   "source": [
    "Rating=[]\n",
    "for i in soup.find_all('div',class_=\"restnt-rating rating-4\"):\n",
    "    Rating.append(i.text)\n",
    "Rating"
   ]
  },
  {
   "cell_type": "code",
   "execution_count": 128,
   "id": "a6d53f06",
   "metadata": {},
   "outputs": [],
   "source": [
    "#Scraping Image URL"
   ]
  },
  {
   "cell_type": "code",
   "execution_count": 129,
   "id": "b706a824",
   "metadata": {},
   "outputs": [
    {
     "data": {
      "text/plain": [
       "['https://im1.dineout.co.in/images/uploads/restaurant/sharpen/8/k/b/p86792-16062953735fbe1f4d3fb7e.jpg?tr=tr:n-medium',\n",
       " 'https://im1.dineout.co.in/images/uploads/restaurant/sharpen/3/h/c/p3643-144497865356209fdd65746.jpg?tr=tr:n-medium',\n",
       " 'https://im1.dineout.co.in/images/uploads/restaurant/sharpen/3/j/o/p38113-15959192065f1fcb666130c.jpg?tr=tr:n-medium',\n",
       " 'https://im1.dineout.co.in/images/uploads/restaurant/sharpen/4/p/m/p406-15438184745c04ccea491bc.jpg?tr=tr:n-medium',\n",
       " 'https://im1.dineout.co.in/images/uploads/restaurant/sharpen/7/p/k/p79307-16051787755fad1597f2bf9.jpg?tr=tr:n-medium',\n",
       " 'https://im1.dineout.co.in/images/uploads/restaurant/sharpen/2/v/t/p2687-1482477169585cce712b90f.jpg?tr=tr:n-medium',\n",
       " 'https://im1.dineout.co.in/images/uploads/restaurant/sharpen/5/v/f/p52501-16006856545f68865616659.jpg?tr=tr:n-medium',\n",
       " 'https://im1.dineout.co.in/images/uploads/restaurant/sharpen/3/n/o/p34822-15599107305cfa594a13c24.jpg?tr=tr:n-medium',\n",
       " 'https://im1.dineout.co.in/images/uploads/restaurant/sharpen/1/p/y/p12366-1466935020576fa6ecdc359.jpg?tr=tr:n-medium',\n",
       " 'https://im1.dineout.co.in/images/uploads/restaurant/sharpen/5/y/d/p549-15291237715b2493bb2a415.jpg?tr=tr:n-medium',\n",
       " 'https://im1.dineout.co.in/images/uploads/restaurant/sharpen/4/n/t/p43488-1647323111623027e763947.jpg?tr=tr:n-medium',\n",
       " 'https://im1.dineout.co.in/images/uploads/restaurant/sharpen/5/w/r/p58842-15624171585d209806d9143.jpg?tr=tr:n-medium',\n",
       " 'https://im1.dineout.co.in/images/uploads/restaurant/sharpen/9/m/a/p9875-1645177960620f6c68ecfef.jpg?tr=tr:n-medium']"
      ]
     },
     "execution_count": 129,
     "metadata": {},
     "output_type": "execute_result"
    }
   ],
   "source": [
    "Image_URL=[]\n",
    "for i in soup.find_all('img',class_=\"no-img\"):\n",
    "    Image_URL.append(i['data-src'])\n",
    "Image_URL"
   ]
  },
  {
   "cell_type": "markdown",
   "id": "32724379",
   "metadata": {},
   "source": [
    "# 10) Write a python program to scrape first 10 product details which include product name , price , Image URL from https://www.bewakoof.com/women-tshirts?ga_q=tshirts .\n"
   ]
  },
  {
   "cell_type": "code",
   "execution_count": 137,
   "id": "c6113ee3",
   "metadata": {},
   "outputs": [],
   "source": [
    "import requests\n",
    "from bs4 import BeautifulSoup"
   ]
  },
  {
   "cell_type": "code",
   "execution_count": 138,
   "id": "c84cc18e",
   "metadata": {},
   "outputs": [
    {
     "data": {
      "text/plain": [
       "<Response [200]>"
      ]
     },
     "execution_count": 138,
     "metadata": {},
     "output_type": "execute_result"
    }
   ],
   "source": [
    "url='https://www.bewakoof.com/women-clothing'\n",
    "page=requests.get(url)\n",
    "page"
   ]
  },
  {
   "cell_type": "code",
   "execution_count": 141,
   "id": "4b7baa69",
   "metadata": {},
   "outputs": [],
   "source": [
    "soup=BeautifulSoup(page.content)"
   ]
  },
  {
   "cell_type": "code",
   "execution_count": 142,
   "id": "c4eaa663",
   "metadata": {},
   "outputs": [
    {
     "data": {
      "text/plain": [
       "['Wonder Women Stripes Round Neck 3/4th Sleeve T-Shirt (DCL) Bold Red₹ 199499₹179For TriBe Members ',\n",
       " 'Peace Jerry Half Sleeve Printed T-Shirt (TJL) White₹ 299549₹279For TriBe Members ',\n",
       " 'Sleepy Cat₹ 349499₹319For TriBe Members ',\n",
       " 'Cute But Crazy Half Sleeve Printed T-Shirt (TJL) Black₹ 349549₹319For TriBe Members ',\n",
       " 'Cute But Crazy Boyfriend T-Shirt (TJL) Black₹ 349549FEW LEFT₹319For TriBe Members ',\n",
       " 'Pink Raglan Dress₹ 599899₹549For TriBe Members ',\n",
       " 'Hello Sunshine Half Sleeve Printed T-Shirt Black₹ 349549₹319For TriBe Members ',\n",
       " 'Varsity Black Denim Jacket₹ 6991749₹649For TriBe Members ',\n",
       " 'Sleeveless Ice Blue Denim Jacket₹ 6991699FEW LEFT₹649For TriBe Members ',\n",
       " 'Camera Mickey Fleece Sweatshirt (DL) Mustard Yellow₹ 449999₹419For TriBe Members ']"
      ]
     },
     "execution_count": 142,
     "metadata": {},
     "output_type": "execute_result"
    }
   ],
   "source": [
    "product_name=[]\n",
    "for i in soup.find_all('div',class_=\"productCardDetail\"):\n",
    "    product_name.append(i.text)\n",
    "product_name"
   ]
  },
  {
   "cell_type": "code",
   "execution_count": 143,
   "id": "9b7666ed",
   "metadata": {},
   "outputs": [
    {
     "data": {
      "text/plain": [
       "['₹ 199',\n",
       " '₹ 299',\n",
       " '₹ 349',\n",
       " '₹ 349',\n",
       " '₹ 349',\n",
       " '₹ 599',\n",
       " '₹ 349',\n",
       " '₹ 699',\n",
       " '₹ 699',\n",
       " '₹ 449']"
      ]
     },
     "execution_count": 143,
     "metadata": {},
     "output_type": "execute_result"
    }
   ],
   "source": [
    "price=[]\n",
    "for i in soup.find_all('span',class_=\"discountedPriceText\"):\n",
    "    price.append(i.text)\n",
    "price"
   ]
  },
  {
   "cell_type": "code",
   "execution_count": 144,
   "id": "b2d1a4b1",
   "metadata": {},
   "outputs": [
    {
     "data": {
      "text/plain": [
       "['https://images.bewakoof.com/t320/wonder-women-stripes-round-neck-3-4th-sleeve-t-shirt-dcl-bold-red-295631-1638213910-1.jpg',\n",
       " 'https://images.bewakoof.com/t320/peace-jerry-half-sleeve-printed-t-shirt-tjl-white-women-s-half-sleeve-printed-t-shirt-295801-1603465610.jpg',\n",
       " 'https://images.bewakoof.com/t320/sleepy-cat-round-neck-3-4-sleeve-t-shirts-navy-blue-women-s-printed-round-neck-3-4-sleeve-t-shirts-295697-1603970408.jpg',\n",
       " 'https://images.bewakoof.com/t320/cute-but-crazy-half-sleeve-printed-t-shirt-tjl-black-296384-1635869239-1.jpg',\n",
       " 'https://images.bewakoof.com/t320/cute-but-crazy-boyfriend-t-shirt-tjl-black-296385-1638786355-1.jpg',\n",
       " 'https://images.bewakoof.com/t320/pink-raglan-dress-296751-1638214973-1.jpg',\n",
       " 'https://images.bewakoof.com/t320/hello-sunshine-half-sleeve-printed-t-shirt-black-296648-1638021561-1.jpg',\n",
       " 'https://images.bewakoof.com/t320/varsity-black-denim-jacket-296448-1638213251-1.jpg',\n",
       " 'https://images.bewakoof.com/t320/sleeveless-ice-blue-denim-jacket-296452-1638213279-1.jpg',\n",
       " 'https://images.bewakoof.com/t320/camera-mickey-fleece-sweatshirt-dl-mustard-yellow-297861-1633522553-1.jpg']"
      ]
     },
     "execution_count": 144,
     "metadata": {},
     "output_type": "execute_result"
    }
   ],
   "source": [
    "image_url=[]\n",
    "for i in soup.find_all('img',class_=\"productImgTag\"):\n",
    "    image_url.append(i['src'])\n",
    "image_url"
   ]
  },
  {
   "cell_type": "code",
   "execution_count": 145,
   "id": "fc56511f",
   "metadata": {},
   "outputs": [
    {
     "data": {
      "text/html": [
       "<div>\n",
       "<style scoped>\n",
       "    .dataframe tbody tr th:only-of-type {\n",
       "        vertical-align: middle;\n",
       "    }\n",
       "\n",
       "    .dataframe tbody tr th {\n",
       "        vertical-align: top;\n",
       "    }\n",
       "\n",
       "    .dataframe thead th {\n",
       "        text-align: right;\n",
       "    }\n",
       "</style>\n",
       "<table border=\"1\" class=\"dataframe\">\n",
       "  <thead>\n",
       "    <tr style=\"text-align: right;\">\n",
       "      <th></th>\n",
       "      <th>PRODUCT_NAME</th>\n",
       "      <th>PRICE</th>\n",
       "      <th>IMAGE_URL</th>\n",
       "    </tr>\n",
       "  </thead>\n",
       "  <tbody>\n",
       "    <tr>\n",
       "      <th>0</th>\n",
       "      <td>Wonder Women Stripes Round Neck 3/4th Sleeve T...</td>\n",
       "      <td>₹ 199</td>\n",
       "      <td>https://images.bewakoof.com/t320/wonder-women-...</td>\n",
       "    </tr>\n",
       "    <tr>\n",
       "      <th>1</th>\n",
       "      <td>Peace Jerry Half Sleeve Printed T-Shirt (TJL) ...</td>\n",
       "      <td>₹ 299</td>\n",
       "      <td>https://images.bewakoof.com/t320/peace-jerry-h...</td>\n",
       "    </tr>\n",
       "    <tr>\n",
       "      <th>2</th>\n",
       "      <td>Sleepy Cat₹ 349499₹319For TriBe Members</td>\n",
       "      <td>₹ 349</td>\n",
       "      <td>https://images.bewakoof.com/t320/sleepy-cat-ro...</td>\n",
       "    </tr>\n",
       "    <tr>\n",
       "      <th>3</th>\n",
       "      <td>Cute But Crazy Half Sleeve Printed T-Shirt (TJ...</td>\n",
       "      <td>₹ 349</td>\n",
       "      <td>https://images.bewakoof.com/t320/cute-but-craz...</td>\n",
       "    </tr>\n",
       "    <tr>\n",
       "      <th>4</th>\n",
       "      <td>Cute But Crazy Boyfriend T-Shirt (TJL) Black₹ ...</td>\n",
       "      <td>₹ 349</td>\n",
       "      <td>https://images.bewakoof.com/t320/cute-but-craz...</td>\n",
       "    </tr>\n",
       "    <tr>\n",
       "      <th>5</th>\n",
       "      <td>Pink Raglan Dress₹ 599899₹549For TriBe Members</td>\n",
       "      <td>₹ 599</td>\n",
       "      <td>https://images.bewakoof.com/t320/pink-raglan-d...</td>\n",
       "    </tr>\n",
       "    <tr>\n",
       "      <th>6</th>\n",
       "      <td>Hello Sunshine Half Sleeve Printed T-Shirt Bla...</td>\n",
       "      <td>₹ 349</td>\n",
       "      <td>https://images.bewakoof.com/t320/hello-sunshin...</td>\n",
       "    </tr>\n",
       "    <tr>\n",
       "      <th>7</th>\n",
       "      <td>Varsity Black Denim Jacket₹ 6991749₹649For Tri...</td>\n",
       "      <td>₹ 699</td>\n",
       "      <td>https://images.bewakoof.com/t320/varsity-black...</td>\n",
       "    </tr>\n",
       "    <tr>\n",
       "      <th>8</th>\n",
       "      <td>Sleeveless Ice Blue Denim Jacket₹ 6991699FEW L...</td>\n",
       "      <td>₹ 699</td>\n",
       "      <td>https://images.bewakoof.com/t320/sleeveless-ic...</td>\n",
       "    </tr>\n",
       "    <tr>\n",
       "      <th>9</th>\n",
       "      <td>Camera Mickey Fleece Sweatshirt (DL) Mustard Y...</td>\n",
       "      <td>₹ 449</td>\n",
       "      <td>https://images.bewakoof.com/t320/camera-mickey...</td>\n",
       "    </tr>\n",
       "  </tbody>\n",
       "</table>\n",
       "</div>"
      ],
      "text/plain": [
       "                                        PRODUCT_NAME  PRICE  \\\n",
       "0  Wonder Women Stripes Round Neck 3/4th Sleeve T...  ₹ 199   \n",
       "1  Peace Jerry Half Sleeve Printed T-Shirt (TJL) ...  ₹ 299   \n",
       "2           Sleepy Cat₹ 349499₹319For TriBe Members   ₹ 349   \n",
       "3  Cute But Crazy Half Sleeve Printed T-Shirt (TJ...  ₹ 349   \n",
       "4  Cute But Crazy Boyfriend T-Shirt (TJL) Black₹ ...  ₹ 349   \n",
       "5    Pink Raglan Dress₹ 599899₹549For TriBe Members   ₹ 599   \n",
       "6  Hello Sunshine Half Sleeve Printed T-Shirt Bla...  ₹ 349   \n",
       "7  Varsity Black Denim Jacket₹ 6991749₹649For Tri...  ₹ 699   \n",
       "8  Sleeveless Ice Blue Denim Jacket₹ 6991699FEW L...  ₹ 699   \n",
       "9  Camera Mickey Fleece Sweatshirt (DL) Mustard Y...  ₹ 449   \n",
       "\n",
       "                                           IMAGE_URL  \n",
       "0  https://images.bewakoof.com/t320/wonder-women-...  \n",
       "1  https://images.bewakoof.com/t320/peace-jerry-h...  \n",
       "2  https://images.bewakoof.com/t320/sleepy-cat-ro...  \n",
       "3  https://images.bewakoof.com/t320/cute-but-craz...  \n",
       "4  https://images.bewakoof.com/t320/cute-but-craz...  \n",
       "5  https://images.bewakoof.com/t320/pink-raglan-d...  \n",
       "6  https://images.bewakoof.com/t320/hello-sunshin...  \n",
       "7  https://images.bewakoof.com/t320/varsity-black...  \n",
       "8  https://images.bewakoof.com/t320/sleeveless-ic...  \n",
       "9  https://images.bewakoof.com/t320/camera-mickey...  "
      ]
     },
     "execution_count": 145,
     "metadata": {},
     "output_type": "execute_result"
    }
   ],
   "source": [
    "#making Dataframe\n",
    "import pandas as pd\n",
    "df=pd.DataFrame({'PRODUCT_NAME':product_name,'PRICE':price,'IMAGE_URL':image_url})\n",
    "df"
   ]
  },
  {
   "cell_type": "code",
   "execution_count": null,
   "id": "bdff37e9",
   "metadata": {},
   "outputs": [],
   "source": []
  }
 ],
 "metadata": {
  "kernelspec": {
   "display_name": "Python 3",
   "language": "python",
   "name": "python3"
  },
  "language_info": {
   "codemirror_mode": {
    "name": "ipython",
    "version": 3
   },
   "file_extension": ".py",
   "mimetype": "text/x-python",
   "name": "python",
   "nbconvert_exporter": "python",
   "pygments_lexer": "ipython3",
   "version": "3.8.8"
  }
 },
 "nbformat": 4,
 "nbformat_minor": 5
}
